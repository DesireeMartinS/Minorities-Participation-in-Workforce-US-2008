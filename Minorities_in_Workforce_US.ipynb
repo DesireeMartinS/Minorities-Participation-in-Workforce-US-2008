{
 "cells": [
  {
   "cell_type": "markdown",
   "metadata": {},
   "source": [
    "# Minorities Participation in the 2008 US Workforce"
   ]
  },
  {
   "cell_type": "code",
   "execution_count": 97,
   "metadata": {},
   "outputs": [],
   "source": [
    "#Load libries\n",
    "import numpy as np\n",
    "import pandas as pd\n",
    "import scipy.stats as stats\n",
    "import matplotlib.pyplot as plt\n",
    "import sklearn\n",
    "\n",
    "%matplotlib inline\n",
    "\n"
   ]
  },
  {
   "cell_type": "code",
   "execution_count": 98,
   "metadata": {},
   "outputs": [],
   "source": [
    "\n",
    "from sklearn import tree      # Import tree classifier \n",
    "from sklearn.model_selection import train_test_split     # Import train_test_split function\n",
    "from sklearn.metrics import confusion_matrix\n",
    "from sklearn.metrics import accuracy_score      # Import scikit-learn metrics module for accuracy calculation"
   ]
  },
  {
   "cell_type": "code",
   "execution_count": 99,
   "metadata": {},
   "outputs": [],
   "source": [
    "#load file\n",
    "\n",
    "location = \"YEAR08_US.xlsx\"\n",
    "df = pd.read_excel(location)"
   ]
  },
  {
   "cell_type": "code",
   "execution_count": 100,
   "metadata": {},
   "outputs": [
    {
     "data": {
      "text/html": [
       "<div>\n",
       "<style scoped>\n",
       "    .dataframe tbody tr th:only-of-type {\n",
       "        vertical-align: middle;\n",
       "    }\n",
       "\n",
       "    .dataframe tbody tr th {\n",
       "        vertical-align: top;\n",
       "    }\n",
       "\n",
       "    .dataframe thead th {\n",
       "        text-align: right;\n",
       "    }\n",
       "</style>\n",
       "<table border=\"1\" class=\"dataframe\">\n",
       "  <thead>\n",
       "    <tr style=\"text-align: right;\">\n",
       "      <th></th>\n",
       "      <th>STATE_LABEL</th>\n",
       "      <th>full name of US</th>\n",
       "      <th>UNITED STATES</th>\n",
       "      <th>Grouping</th>\n",
       "      <th>Job_Code</th>\n",
       "      <th>Job_Desc</th>\n",
       "      <th>Sex</th>\n",
       "      <th>Race</th>\n",
       "      <th>Measure</th>\n",
       "      <th>Units</th>\n",
       "    </tr>\n",
       "  </thead>\n",
       "  <tbody>\n",
       "    <tr>\n",
       "      <th>0</th>\n",
       "      <td>TOTAL_UNIT</td>\n",
       "      <td>number of total reporting units</td>\n",
       "      <td>250650.0</td>\n",
       "      <td>TOTAL</td>\n",
       "      <td>_</td>\n",
       "      <td>0</td>\n",
       "      <td>Both_Sex</td>\n",
       "      <td>All_Races</td>\n",
       "      <td>Number</td>\n",
       "      <td>NaN</td>\n",
       "    </tr>\n",
       "    <tr>\n",
       "      <th>1</th>\n",
       "      <td>TOTAL1</td>\n",
       "      <td>1-Senior OFF AND MGRS/TOTAL</td>\n",
       "      <td>872386.0</td>\n",
       "      <td>TOTAL</td>\n",
       "      <td>1</td>\n",
       "      <td>Senior_MGRS</td>\n",
       "      <td>Both_Sex</td>\n",
       "      <td>All_Races</td>\n",
       "      <td>Number</td>\n",
       "      <td>Total_Job_Race</td>\n",
       "    </tr>\n",
       "    <tr>\n",
       "      <th>2</th>\n",
       "      <td>TOTAL2</td>\n",
       "      <td>2-PROF/TOTAL</td>\n",
       "      <td>9292967.0</td>\n",
       "      <td>TOTAL</td>\n",
       "      <td>2</td>\n",
       "      <td>PROF</td>\n",
       "      <td>Both_Sex</td>\n",
       "      <td>All_Races</td>\n",
       "      <td>Number</td>\n",
       "      <td>Total_Job_Race</td>\n",
       "    </tr>\n",
       "    <tr>\n",
       "      <th>3</th>\n",
       "      <td>TOTAL3</td>\n",
       "      <td>3-TECH/TOTAL</td>\n",
       "      <td>2946127.0</td>\n",
       "      <td>TOTAL</td>\n",
       "      <td>3</td>\n",
       "      <td>TECH</td>\n",
       "      <td>Both_Sex</td>\n",
       "      <td>All_Races</td>\n",
       "      <td>Number</td>\n",
       "      <td>Total_Job_Race</td>\n",
       "    </tr>\n",
       "    <tr>\n",
       "      <th>4</th>\n",
       "      <td>TOTAL4</td>\n",
       "      <td>4-SALE/TOTAL</td>\n",
       "      <td>5775889.0</td>\n",
       "      <td>TOTAL</td>\n",
       "      <td>4</td>\n",
       "      <td>SALE</td>\n",
       "      <td>Both_Sex</td>\n",
       "      <td>All_Races</td>\n",
       "      <td>Number</td>\n",
       "      <td>Total_Job_Race</td>\n",
       "    </tr>\n",
       "  </tbody>\n",
       "</table>\n",
       "</div>"
      ],
      "text/plain": [
       "  STATE_LABEL                  full name of US  UNITED STATES Grouping  \\\n",
       "0  TOTAL_UNIT  number of total reporting units       250650.0    TOTAL   \n",
       "1      TOTAL1      1-Senior OFF AND MGRS/TOTAL       872386.0    TOTAL   \n",
       "2      TOTAL2                     2-PROF/TOTAL      9292967.0    TOTAL   \n",
       "3      TOTAL3                     3-TECH/TOTAL      2946127.0    TOTAL   \n",
       "4      TOTAL4                     4-SALE/TOTAL      5775889.0    TOTAL   \n",
       "\n",
       "  Job_Code     Job_Desc       Sex       Race Measure           Units  \n",
       "0        _            0  Both_Sex  All_Races  Number             NaN  \n",
       "1        1  Senior_MGRS  Both_Sex  All_Races  Number  Total_Job_Race  \n",
       "2        2         PROF  Both_Sex  All_Races  Number  Total_Job_Race  \n",
       "3        3         TECH  Both_Sex  All_Races  Number  Total_Job_Race  \n",
       "4        4         SALE  Both_Sex  All_Races  Number  Total_Job_Race  "
      ]
     },
     "execution_count": 100,
     "metadata": {},
     "output_type": "execute_result"
    }
   ],
   "source": [
    "df.head()"
   ]
  },
  {
   "cell_type": "code",
   "execution_count": 101,
   "metadata": {},
   "outputs": [
    {
     "data": {
      "text/plain": [
       "Index(['STATE_LABEL', 'full name of US', 'UNITED STATES', 'Grouping',\n",
       "       'Job_Code', 'Job_Desc', 'Sex', 'Race', 'Measure', 'Units'],\n",
       "      dtype='object')"
      ]
     },
     "execution_count": 101,
     "metadata": {},
     "output_type": "execute_result"
    }
   ],
   "source": [
    "df.columns"
   ]
  },
  {
   "cell_type": "code",
   "execution_count": 102,
   "metadata": {},
   "outputs": [
    {
     "name": "stdout",
     "output_type": "stream",
     "text": [
      "<class 'pandas.core.frame.DataFrame'>\n",
      "RangeIndex: 597 entries, 0 to 596\n",
      "Data columns (total 10 columns):\n",
      "STATE_LABEL        597 non-null object\n",
      "full name of US    595 non-null object\n",
      "UNITED STATES      597 non-null float64\n",
      "Grouping           595 non-null object\n",
      "Job_Code           595 non-null object\n",
      "Job_Desc           595 non-null object\n",
      "Sex                595 non-null object\n",
      "Race               595 non-null object\n",
      "Measure            595 non-null object\n",
      "Units              594 non-null object\n",
      "dtypes: float64(1), object(9)\n",
      "memory usage: 46.7+ KB\n"
     ]
    }
   ],
   "source": [
    "df.info()"
   ]
  },
  {
   "cell_type": "code",
   "execution_count": 103,
   "metadata": {},
   "outputs": [
    {
     "data": {
      "text/plain": [
       "LABORERS (MINORITY)                               2\n",
       "SALES WORKERS (MINORITY)                          2\n",
       "TOTAL (MINORITY)                                  2\n",
       "CRAFT WORKERS (MINORITY)                          2\n",
       "FEMALE MID OFF AND MGRS                           2\n",
       "SENIOR OFF AND MGRS (MINORITY)                    2\n",
       "PROFESSIONALS (MINORITY)                          2\n",
       "1_2 MID OFF AND MGRS (MINORITY) (PC)              2\n",
       "MID BLACK OFF AND MGRS                            2\n",
       "MID OFF AND MGRS (MINORITY)                       2\n",
       "OPERATIVES (MINORITY)                             2\n",
       "SERVICE WORKERS (MINORITY)                        2\n",
       "1.2-Mid OFF AND MGRS/ASIAN/MALE                   2\n",
       "OFFICE AND CLERICALS (MINORITY)                   2\n",
       "TECHNICIANS (MINORITY)                            2\n",
       "3-TECH/BLACK/FEMALE (PCT)                         1\n",
       "4-SALE/AM-INDIAN-ALK/MALE(PC)                     1\n",
       "1-Senior OFF AND MGRS/MINORITY/MALE (MINORITY)    1\n",
       "4-SALE/ASIAN/FEMALE(PCT)                          1\n",
       "8-LABORS/MINORITY/FEMALE(MINORITY)(PCT)           1\n",
       "HISPANIC LABORERS                                 1\n",
       "FEMALE TOTAL                                      1\n",
       "3-TECH/AM-INDIAN-ALK/MALE(PC)                     1\n",
       "4-SALE/ASIAN/MALE                                 1\n",
       "HISPANIC OFFICE AND CLERICALS                     1\n",
       "5-CLERICALS/BLACK/FEMALE                          1\n",
       "3-TECH/ASIAN/MALE                                 1\n",
       "5-CLERICALS/WHITE/MALE(PC)                        1\n",
       "1.2-Mid OFF AND MGRS/Hawaiia/FEMALE               1\n",
       "BLACK TECHNICIANS(PC)                             1\n",
       "                                                 ..\n",
       "5-CLERICALS/AM-INDIAN-ALK/FEMALE(PC)              1\n",
       "INDIAN SENIOR OFF AND MGRS (PCT)                  1\n",
       "10-TOTAL/Two Races/FEMALE(PC)                     1\n",
       "10-TOTAL/WHITE/MALE(PC)                           1\n",
       "Two Race SERVICE WORKERS                          1\n",
       "MALE LABORERS(PC)                                 1\n",
       "9-Service/ASIAN/MALE                              1\n",
       "MID BLACK OFF AND MGRS(PC)                        1\n",
       "BLACK OPERATIVES                                  1\n",
       "Two Race LABORERS(PC)                             1\n",
       "10-TOTAL/ASIAN/FEMALE(PCT)                        1\n",
       "10-TOTAL/HISPANIC/MALE(PC)                        1\n",
       "BLACK LABORERS (PCT)                              1\n",
       "2-PROF/HISPANIC/MALE(PC)                          1\n",
       "9-Service/WHITE/FEMALE                            1\n",
       "3-TECH/AM-INDIAN-ALK/FEMALE(PC)                   1\n",
       "WHITE SALES WORKERS (PC)                          1\n",
       "3-TECH/Hawaiia/MALE(PCT)                          1\n",
       "WHITE LABORERS                                    1\n",
       "6-CRAFT/Two Races/FEMALE(PC)                      1\n",
       "9-Service/Hawaiia/MALE                            1\n",
       "MALE SENIOR OFF AND MGRS (PC)                     1\n",
       "FEMALE TOTAL(PC)                                  1\n",
       "ASIAN LABORERS(PCT)                               1\n",
       "INDIAN OFFICE AND CLERICALS(PCT)                  1\n",
       "8-LABORS/MINORITY/MALE(MINORITY)                  1\n",
       "BLACK PROFESSIONALS (PC)                          1\n",
       "ASIAN LABORERS                                    1\n",
       "8-LABORS/MINORITY/(MINORITY)(PCT)                 1\n",
       "8-LABORS/Two Races/FEMALE(PC)                     1\n",
       "Name: full name of US, Length: 580, dtype: int64"
      ]
     },
     "execution_count": 103,
     "metadata": {},
     "output_type": "execute_result"
    }
   ],
   "source": [
    "df[\"full name of US\"].value_counts()"
   ]
  },
  {
   "cell_type": "code",
   "execution_count": 104,
   "metadata": {},
   "outputs": [
    {
     "data": {
      "text/plain": [
       "TOTAL      12\n",
       "ASIANF     11\n",
       "TOMRM      11\n",
       "ASIANM     11\n",
       "NHOPIF     11\n",
       "asiantp    11\n",
       "WHtp       11\n",
       "WHMp       11\n",
       "MT         11\n",
       "tomrMp     11\n",
       "WHM        11\n",
       "MinTp      11\n",
       "MinM       11\n",
       "FTp        11\n",
       "tomrtp     11\n",
       "AIANfp     11\n",
       "BLKF       11\n",
       "nhopifp    11\n",
       "HISPF      11\n",
       "AIANT      11\n",
       "FT         11\n",
       "BLKfp      11\n",
       "PTOTAL     11\n",
       "MinT       11\n",
       "WHF        11\n",
       "MinF       11\n",
       "MinFp      11\n",
       "NHOPIM     11\n",
       "HISPtp     11\n",
       "BLKM       11\n",
       "asianfp    11\n",
       "AIANF      11\n",
       "AIANtp     11\n",
       "HISPT      11\n",
       "tomrT      11\n",
       "TOMRF      11\n",
       "WHfp       11\n",
       "tomrfp     11\n",
       "BLKtp      11\n",
       "MinMp      11\n",
       "AIANMp     11\n",
       "HISPM      11\n",
       "AIANM      11\n",
       "BLKMp      11\n",
       "nhopiMp    11\n",
       "BLKT       11\n",
       "MTp        11\n",
       "asianMp    11\n",
       "ASIANT     11\n",
       "nhopitp    11\n",
       "WHT        11\n",
       "nhopiT     11\n",
       "HISPfp     11\n",
       "HISPMp     11\n",
       "Name: Grouping, dtype: int64"
      ]
     },
     "execution_count": 104,
     "metadata": {},
     "output_type": "execute_result"
    }
   ],
   "source": [
    "df[\"Grouping\"].value_counts()"
   ]
  },
  {
   "cell_type": "code",
   "execution_count": 105,
   "metadata": {},
   "outputs": [
    {
     "data": {
      "text/plain": [
       "5      54\n",
       "4      54\n",
       "3      54\n",
       "8      54\n",
       "1      54\n",
       "6      54\n",
       "7      54\n",
       "2      54\n",
       "9      54\n",
       "10     54\n",
       "1_2    54\n",
       "_       1\n",
       "Name: Job_Code, dtype: int64"
      ]
     },
     "execution_count": 105,
     "metadata": {},
     "output_type": "execute_result"
    }
   ],
   "source": [
    "df[\"Job_Code\"].value_counts()"
   ]
  },
  {
   "cell_type": "code",
   "execution_count": 106,
   "metadata": {},
   "outputs": [
    {
     "data": {
      "text/plain": [
       "White         66\n",
       "Black         66\n",
       "Hispanic      66\n",
       "Two_Races     66\n",
       "Indian        66\n",
       "Hawaiia       66\n",
       "Minorities    66\n",
       "Asian         66\n",
       "All_Races     34\n",
       "All_races     33\n",
       "Name: Race, dtype: int64"
      ]
     },
     "execution_count": 106,
     "metadata": {},
     "output_type": "execute_result"
    }
   ],
   "source": [
    "df[\"Race\"].value_counts()"
   ]
  },
  {
   "cell_type": "code",
   "execution_count": 107,
   "metadata": {},
   "outputs": [
    {
     "data": {
      "text/plain": [
       "Both_Sex    199\n",
       "Male        198\n",
       "Female      198\n",
       "Name: Sex, dtype: int64"
      ]
     },
     "execution_count": 107,
     "metadata": {},
     "output_type": "execute_result"
    }
   ],
   "source": [
    "df[\"Sex\"].value_counts()"
   ]
  },
  {
   "cell_type": "code",
   "execution_count": 108,
   "metadata": {},
   "outputs": [
    {
     "data": {
      "text/plain": [
       "Number     298\n",
       "Percent    297\n",
       "Name: Measure, dtype: int64"
      ]
     },
     "execution_count": 108,
     "metadata": {},
     "output_type": "execute_result"
    }
   ],
   "source": [
    "df[\"Measure\"].value_counts()"
   ]
  },
  {
   "cell_type": "code",
   "execution_count": 109,
   "metadata": {},
   "outputs": [
    {
     "data": {
      "text/plain": [
       "Partial_Sex       396\n",
       "Partial_Race      165\n",
       "Total_Job_Race     22\n",
       "Partial_race       11\n",
       "Name: Units, dtype: int64"
      ]
     },
     "execution_count": 109,
     "metadata": {},
     "output_type": "execute_result"
    }
   ],
   "source": [
    "df[\"Units\"].value_counts()"
   ]
  },
  {
   "cell_type": "code",
   "execution_count": 110,
   "metadata": {},
   "outputs": [
    {
     "data": {
      "text/plain": [
       "TOTAL10       1\n",
       "WHF1_2        1\n",
       "HISPF1        1\n",
       "WHfp8         1\n",
       "HISPfp4       1\n",
       "AIANM5        1\n",
       "MinMp2        1\n",
       "WHMp1_2       1\n",
       "MT1_2         1\n",
       "MinMp4        1\n",
       "HISPM4        1\n",
       "BLKfp3        1\n",
       "TOMRF4        1\n",
       "ASIANT6       1\n",
       "tomrMp9       1\n",
       "tomrtp1_2     1\n",
       "nhopifp1_2    1\n",
       "BLKF4         1\n",
       "nhopiT5       1\n",
       "AIANfp1       1\n",
       "AIANM7        1\n",
       "TOMRF3        1\n",
       "AIANfp4       1\n",
       "NHOPIM7       1\n",
       "NHOPIF1_2     1\n",
       "MinFp8        1\n",
       "BLKM9         1\n",
       "nhopiMp8      1\n",
       "nhopiMp1      1\n",
       "tomrMp8       1\n",
       "             ..\n",
       "nhopiMp4      1\n",
       "ASIANM10      1\n",
       "HISPF9        1\n",
       "NHOPIF2       1\n",
       "BLKfp10       1\n",
       "nhopiMp3      1\n",
       "HISPT4        1\n",
       "WHF9          1\n",
       "BLKM1_2       1\n",
       "FT1           1\n",
       "nhopiT9       1\n",
       "ASIANF5       1\n",
       "PTOTAL7       1\n",
       "ASIANT7       1\n",
       "BLKMp1_2      1\n",
       "WHM9          1\n",
       "asianMp8      1\n",
       "HISPMp5       1\n",
       "asianMp1      1\n",
       "TOMRF7        1\n",
       "MinT3         1\n",
       "asiantp8      1\n",
       "MinFp3        1\n",
       "MinT8         1\n",
       "WHtp9         1\n",
       "MinFp7        1\n",
       "BLKT5         1\n",
       "AIANMp9       1\n",
       "ASIANT1       1\n",
       "BLKMp9        1\n",
       "Name: STATE_LABEL, Length: 597, dtype: int64"
      ]
     },
     "execution_count": 110,
     "metadata": {},
     "output_type": "execute_result"
    }
   ],
   "source": [
    "df[\"STATE_LABEL\"].value_counts()"
   ]
  },
  {
   "cell_type": "markdown",
   "metadata": {},
   "source": [
    "Cleaning: \n",
    "1. Delete from col STATE_LABEL the value: TOTAL_UNIT, I, J\n",
    "3. Replace column name 'UNITED STATES'-> TotalNum\n",
    "3. Replace column name STATE_LABEL-> Label\n",
    "3. Replace column name full name of US-> Description\n",
    "4. Create a df for Percent Measure and another with number and forther split by category of interest in a given col\n"
   ]
  },
  {
   "cell_type": "code",
   "execution_count": 111,
   "metadata": {},
   "outputs": [],
   "source": [
    "dfClean = df[df.STATE_LABEL != \"TOTAL_UNIT\" ]"
   ]
  },
  {
   "cell_type": "code",
   "execution_count": 112,
   "metadata": {},
   "outputs": [],
   "source": [
    "dfClean = dfClean[dfClean.STATE_LABEL != \"I\" ]"
   ]
  },
  {
   "cell_type": "code",
   "execution_count": 113,
   "metadata": {},
   "outputs": [],
   "source": [
    "dfClean2 = dfClean[dfClean.STATE_LABEL != \"J\" ]"
   ]
  },
  {
   "cell_type": "code",
   "execution_count": 114,
   "metadata": {},
   "outputs": [
    {
     "data": {
      "text/html": [
       "<div>\n",
       "<style scoped>\n",
       "    .dataframe tbody tr th:only-of-type {\n",
       "        vertical-align: middle;\n",
       "    }\n",
       "\n",
       "    .dataframe tbody tr th {\n",
       "        vertical-align: top;\n",
       "    }\n",
       "\n",
       "    .dataframe thead th {\n",
       "        text-align: right;\n",
       "    }\n",
       "</style>\n",
       "<table border=\"1\" class=\"dataframe\">\n",
       "  <thead>\n",
       "    <tr style=\"text-align: right;\">\n",
       "      <th></th>\n",
       "      <th>STATE_LABEL</th>\n",
       "      <th>full name of US</th>\n",
       "      <th>UNITED STATES</th>\n",
       "      <th>Grouping</th>\n",
       "      <th>Job_Code</th>\n",
       "      <th>Job_Desc</th>\n",
       "      <th>Sex</th>\n",
       "      <th>Race</th>\n",
       "      <th>Measure</th>\n",
       "      <th>Units</th>\n",
       "    </tr>\n",
       "  </thead>\n",
       "  <tbody>\n",
       "    <tr>\n",
       "      <th>1</th>\n",
       "      <td>TOTAL1</td>\n",
       "      <td>1-Senior OFF AND MGRS/TOTAL</td>\n",
       "      <td>872386.0</td>\n",
       "      <td>TOTAL</td>\n",
       "      <td>1</td>\n",
       "      <td>Senior_MGRS</td>\n",
       "      <td>Both_Sex</td>\n",
       "      <td>All_Races</td>\n",
       "      <td>Number</td>\n",
       "      <td>Total_Job_Race</td>\n",
       "    </tr>\n",
       "    <tr>\n",
       "      <th>2</th>\n",
       "      <td>TOTAL2</td>\n",
       "      <td>2-PROF/TOTAL</td>\n",
       "      <td>9292967.0</td>\n",
       "      <td>TOTAL</td>\n",
       "      <td>2</td>\n",
       "      <td>PROF</td>\n",
       "      <td>Both_Sex</td>\n",
       "      <td>All_Races</td>\n",
       "      <td>Number</td>\n",
       "      <td>Total_Job_Race</td>\n",
       "    </tr>\n",
       "    <tr>\n",
       "      <th>3</th>\n",
       "      <td>TOTAL3</td>\n",
       "      <td>3-TECH/TOTAL</td>\n",
       "      <td>2946127.0</td>\n",
       "      <td>TOTAL</td>\n",
       "      <td>3</td>\n",
       "      <td>TECH</td>\n",
       "      <td>Both_Sex</td>\n",
       "      <td>All_Races</td>\n",
       "      <td>Number</td>\n",
       "      <td>Total_Job_Race</td>\n",
       "    </tr>\n",
       "    <tr>\n",
       "      <th>4</th>\n",
       "      <td>TOTAL4</td>\n",
       "      <td>4-SALE/TOTAL</td>\n",
       "      <td>5775889.0</td>\n",
       "      <td>TOTAL</td>\n",
       "      <td>4</td>\n",
       "      <td>SALE</td>\n",
       "      <td>Both_Sex</td>\n",
       "      <td>All_Races</td>\n",
       "      <td>Number</td>\n",
       "      <td>Total_Job_Race</td>\n",
       "    </tr>\n",
       "    <tr>\n",
       "      <th>5</th>\n",
       "      <td>TOTAL5</td>\n",
       "      <td>5-CLERICALS/TOTAL</td>\n",
       "      <td>6609940.0</td>\n",
       "      <td>TOTAL</td>\n",
       "      <td>5</td>\n",
       "      <td>CLERICALS</td>\n",
       "      <td>Both_Sex</td>\n",
       "      <td>All_Races</td>\n",
       "      <td>Number</td>\n",
       "      <td>Total_Job_Race</td>\n",
       "    </tr>\n",
       "  </tbody>\n",
       "</table>\n",
       "</div>"
      ],
      "text/plain": [
       "  STATE_LABEL              full name of US  UNITED STATES Grouping Job_Code  \\\n",
       "1      TOTAL1  1-Senior OFF AND MGRS/TOTAL       872386.0    TOTAL        1   \n",
       "2      TOTAL2                 2-PROF/TOTAL      9292967.0    TOTAL        2   \n",
       "3      TOTAL3                 3-TECH/TOTAL      2946127.0    TOTAL        3   \n",
       "4      TOTAL4                 4-SALE/TOTAL      5775889.0    TOTAL        4   \n",
       "5      TOTAL5            5-CLERICALS/TOTAL      6609940.0    TOTAL        5   \n",
       "\n",
       "      Job_Desc       Sex       Race Measure           Units  \n",
       "1  Senior_MGRS  Both_Sex  All_Races  Number  Total_Job_Race  \n",
       "2         PROF  Both_Sex  All_Races  Number  Total_Job_Race  \n",
       "3         TECH  Both_Sex  All_Races  Number  Total_Job_Race  \n",
       "4         SALE  Both_Sex  All_Races  Number  Total_Job_Race  \n",
       "5    CLERICALS  Both_Sex  All_Races  Number  Total_Job_Race  "
      ]
     },
     "execution_count": 114,
     "metadata": {},
     "output_type": "execute_result"
    }
   ],
   "source": [
    "dfClean2.head()"
   ]
  },
  {
   "cell_type": "code",
   "execution_count": 115,
   "metadata": {},
   "outputs": [
    {
     "data": {
      "text/plain": [
       "TOTAL10      1\n",
       "AIANM7       1\n",
       "WHF1_2       1\n",
       "BLKF4        1\n",
       "HISPF1       1\n",
       "WHfp8        1\n",
       "HISPfp4      1\n",
       "AIANM5       1\n",
       "MinMp2       1\n",
       "WHMp1_2      1\n",
       "MT1_2        1\n",
       "MinMp4       1\n",
       "HISPM4       1\n",
       "BLKfp3       1\n",
       "TOMRF4       1\n",
       "ASIANT6      1\n",
       "tomrMp9      1\n",
       "nhopiT5      1\n",
       "tomrMp7      1\n",
       "ASIANF10     1\n",
       "TOMRM1_2     1\n",
       "AIANfp1      1\n",
       "MinF8        1\n",
       "TOMRF3       1\n",
       "AIANfp4      1\n",
       "NHOPIM7      1\n",
       "NHOPIF1_2    1\n",
       "MinFp8       1\n",
       "BLKM9        1\n",
       "nhopiMp8     1\n",
       "            ..\n",
       "MTp2         1\n",
       "nhopiMp4     1\n",
       "ASIANM10     1\n",
       "HISPF9       1\n",
       "NHOPIF2      1\n",
       "BLKfp10      1\n",
       "nhopiMp3     1\n",
       "HISPT4       1\n",
       "WHF9         1\n",
       "BLKM1_2      1\n",
       "FT1          1\n",
       "PTOTAL7      1\n",
       "ASIANT7      1\n",
       "MinFp3       1\n",
       "MinT3        1\n",
       "asianfp6     1\n",
       "WHM9         1\n",
       "asianMp8     1\n",
       "HISPMp5      1\n",
       "asianMp1     1\n",
       "TOMRF7       1\n",
       "BLKMp1_2     1\n",
       "ASIANT1      1\n",
       "asiantp8     1\n",
       "MinT8        1\n",
       "WHtp9        1\n",
       "MinFp7       1\n",
       "BLKT5        1\n",
       "tomrMp2      1\n",
       "BLKMp9       1\n",
       "Name: STATE_LABEL, Length: 594, dtype: int64"
      ]
     },
     "execution_count": 115,
     "metadata": {},
     "output_type": "execute_result"
    }
   ],
   "source": [
    "dfClean2[\"STATE_LABEL\"].value_counts()"
   ]
  },
  {
   "cell_type": "code",
   "execution_count": 116,
   "metadata": {},
   "outputs": [
    {
     "name": "stdout",
     "output_type": "stream",
     "text": [
      "<class 'pandas.core.frame.DataFrame'>\n",
      "Int64Index: 594 entries, 1 to 596\n",
      "Data columns (total 10 columns):\n",
      "STATE_LABEL        594 non-null object\n",
      "full name of US    594 non-null object\n",
      "UNITED STATES      594 non-null float64\n",
      "Grouping           594 non-null object\n",
      "Job_Code           594 non-null object\n",
      "Job_Desc           594 non-null object\n",
      "Sex                594 non-null object\n",
      "Race               594 non-null object\n",
      "Measure            594 non-null object\n",
      "Units              594 non-null object\n",
      "dtypes: float64(1), object(9)\n",
      "memory usage: 51.0+ KB\n"
     ]
    }
   ],
   "source": [
    "dfClean2.info()"
   ]
  },
  {
   "cell_type": "code",
   "execution_count": 117,
   "metadata": {},
   "outputs": [],
   "source": [
    "import seaborn as sns"
   ]
  },
  {
   "cell_type": "code",
   "execution_count": 118,
   "metadata": {},
   "outputs": [
    {
     "data": {
      "text/html": [
       "<div>\n",
       "<style scoped>\n",
       "    .dataframe tbody tr th:only-of-type {\n",
       "        vertical-align: middle;\n",
       "    }\n",
       "\n",
       "    .dataframe tbody tr th {\n",
       "        vertical-align: top;\n",
       "    }\n",
       "\n",
       "    .dataframe thead th {\n",
       "        text-align: right;\n",
       "    }\n",
       "</style>\n",
       "<table border=\"1\" class=\"dataframe\">\n",
       "  <thead>\n",
       "    <tr style=\"text-align: right;\">\n",
       "      <th></th>\n",
       "      <th>STATE_LABEL</th>\n",
       "      <th>full name of US</th>\n",
       "      <th>UNITED STATES</th>\n",
       "      <th>Grouping</th>\n",
       "      <th>Job_Code</th>\n",
       "      <th>Job_Desc</th>\n",
       "      <th>Sex</th>\n",
       "      <th>Race</th>\n",
       "      <th>Measure</th>\n",
       "      <th>Units</th>\n",
       "    </tr>\n",
       "  </thead>\n",
       "  <tbody>\n",
       "    <tr>\n",
       "      <th>1</th>\n",
       "      <td>False</td>\n",
       "      <td>False</td>\n",
       "      <td>False</td>\n",
       "      <td>False</td>\n",
       "      <td>False</td>\n",
       "      <td>False</td>\n",
       "      <td>False</td>\n",
       "      <td>False</td>\n",
       "      <td>False</td>\n",
       "      <td>False</td>\n",
       "    </tr>\n",
       "    <tr>\n",
       "      <th>2</th>\n",
       "      <td>False</td>\n",
       "      <td>False</td>\n",
       "      <td>False</td>\n",
       "      <td>False</td>\n",
       "      <td>False</td>\n",
       "      <td>False</td>\n",
       "      <td>False</td>\n",
       "      <td>False</td>\n",
       "      <td>False</td>\n",
       "      <td>False</td>\n",
       "    </tr>\n",
       "    <tr>\n",
       "      <th>3</th>\n",
       "      <td>False</td>\n",
       "      <td>False</td>\n",
       "      <td>False</td>\n",
       "      <td>False</td>\n",
       "      <td>False</td>\n",
       "      <td>False</td>\n",
       "      <td>False</td>\n",
       "      <td>False</td>\n",
       "      <td>False</td>\n",
       "      <td>False</td>\n",
       "    </tr>\n",
       "    <tr>\n",
       "      <th>4</th>\n",
       "      <td>False</td>\n",
       "      <td>False</td>\n",
       "      <td>False</td>\n",
       "      <td>False</td>\n",
       "      <td>False</td>\n",
       "      <td>False</td>\n",
       "      <td>False</td>\n",
       "      <td>False</td>\n",
       "      <td>False</td>\n",
       "      <td>False</td>\n",
       "    </tr>\n",
       "    <tr>\n",
       "      <th>5</th>\n",
       "      <td>False</td>\n",
       "      <td>False</td>\n",
       "      <td>False</td>\n",
       "      <td>False</td>\n",
       "      <td>False</td>\n",
       "      <td>False</td>\n",
       "      <td>False</td>\n",
       "      <td>False</td>\n",
       "      <td>False</td>\n",
       "      <td>False</td>\n",
       "    </tr>\n",
       "    <tr>\n",
       "      <th>6</th>\n",
       "      <td>False</td>\n",
       "      <td>False</td>\n",
       "      <td>False</td>\n",
       "      <td>False</td>\n",
       "      <td>False</td>\n",
       "      <td>False</td>\n",
       "      <td>False</td>\n",
       "      <td>False</td>\n",
       "      <td>False</td>\n",
       "      <td>False</td>\n",
       "    </tr>\n",
       "    <tr>\n",
       "      <th>7</th>\n",
       "      <td>False</td>\n",
       "      <td>False</td>\n",
       "      <td>False</td>\n",
       "      <td>False</td>\n",
       "      <td>False</td>\n",
       "      <td>False</td>\n",
       "      <td>False</td>\n",
       "      <td>False</td>\n",
       "      <td>False</td>\n",
       "      <td>False</td>\n",
       "    </tr>\n",
       "    <tr>\n",
       "      <th>8</th>\n",
       "      <td>False</td>\n",
       "      <td>False</td>\n",
       "      <td>False</td>\n",
       "      <td>False</td>\n",
       "      <td>False</td>\n",
       "      <td>False</td>\n",
       "      <td>False</td>\n",
       "      <td>False</td>\n",
       "      <td>False</td>\n",
       "      <td>False</td>\n",
       "    </tr>\n",
       "    <tr>\n",
       "      <th>9</th>\n",
       "      <td>False</td>\n",
       "      <td>False</td>\n",
       "      <td>False</td>\n",
       "      <td>False</td>\n",
       "      <td>False</td>\n",
       "      <td>False</td>\n",
       "      <td>False</td>\n",
       "      <td>False</td>\n",
       "      <td>False</td>\n",
       "      <td>False</td>\n",
       "    </tr>\n",
       "    <tr>\n",
       "      <th>10</th>\n",
       "      <td>False</td>\n",
       "      <td>False</td>\n",
       "      <td>False</td>\n",
       "      <td>False</td>\n",
       "      <td>False</td>\n",
       "      <td>False</td>\n",
       "      <td>False</td>\n",
       "      <td>False</td>\n",
       "      <td>False</td>\n",
       "      <td>False</td>\n",
       "    </tr>\n",
       "    <tr>\n",
       "      <th>11</th>\n",
       "      <td>False</td>\n",
       "      <td>False</td>\n",
       "      <td>False</td>\n",
       "      <td>False</td>\n",
       "      <td>False</td>\n",
       "      <td>False</td>\n",
       "      <td>False</td>\n",
       "      <td>False</td>\n",
       "      <td>False</td>\n",
       "      <td>False</td>\n",
       "    </tr>\n",
       "    <tr>\n",
       "      <th>12</th>\n",
       "      <td>False</td>\n",
       "      <td>False</td>\n",
       "      <td>False</td>\n",
       "      <td>False</td>\n",
       "      <td>False</td>\n",
       "      <td>False</td>\n",
       "      <td>False</td>\n",
       "      <td>False</td>\n",
       "      <td>False</td>\n",
       "      <td>False</td>\n",
       "    </tr>\n",
       "    <tr>\n",
       "      <th>13</th>\n",
       "      <td>False</td>\n",
       "      <td>False</td>\n",
       "      <td>False</td>\n",
       "      <td>False</td>\n",
       "      <td>False</td>\n",
       "      <td>False</td>\n",
       "      <td>False</td>\n",
       "      <td>False</td>\n",
       "      <td>False</td>\n",
       "      <td>False</td>\n",
       "    </tr>\n",
       "    <tr>\n",
       "      <th>14</th>\n",
       "      <td>False</td>\n",
       "      <td>False</td>\n",
       "      <td>False</td>\n",
       "      <td>False</td>\n",
       "      <td>False</td>\n",
       "      <td>False</td>\n",
       "      <td>False</td>\n",
       "      <td>False</td>\n",
       "      <td>False</td>\n",
       "      <td>False</td>\n",
       "    </tr>\n",
       "    <tr>\n",
       "      <th>15</th>\n",
       "      <td>False</td>\n",
       "      <td>False</td>\n",
       "      <td>False</td>\n",
       "      <td>False</td>\n",
       "      <td>False</td>\n",
       "      <td>False</td>\n",
       "      <td>False</td>\n",
       "      <td>False</td>\n",
       "      <td>False</td>\n",
       "      <td>False</td>\n",
       "    </tr>\n",
       "    <tr>\n",
       "      <th>16</th>\n",
       "      <td>False</td>\n",
       "      <td>False</td>\n",
       "      <td>False</td>\n",
       "      <td>False</td>\n",
       "      <td>False</td>\n",
       "      <td>False</td>\n",
       "      <td>False</td>\n",
       "      <td>False</td>\n",
       "      <td>False</td>\n",
       "      <td>False</td>\n",
       "    </tr>\n",
       "    <tr>\n",
       "      <th>17</th>\n",
       "      <td>False</td>\n",
       "      <td>False</td>\n",
       "      <td>False</td>\n",
       "      <td>False</td>\n",
       "      <td>False</td>\n",
       "      <td>False</td>\n",
       "      <td>False</td>\n",
       "      <td>False</td>\n",
       "      <td>False</td>\n",
       "      <td>False</td>\n",
       "    </tr>\n",
       "    <tr>\n",
       "      <th>18</th>\n",
       "      <td>False</td>\n",
       "      <td>False</td>\n",
       "      <td>False</td>\n",
       "      <td>False</td>\n",
       "      <td>False</td>\n",
       "      <td>False</td>\n",
       "      <td>False</td>\n",
       "      <td>False</td>\n",
       "      <td>False</td>\n",
       "      <td>False</td>\n",
       "    </tr>\n",
       "    <tr>\n",
       "      <th>19</th>\n",
       "      <td>False</td>\n",
       "      <td>False</td>\n",
       "      <td>False</td>\n",
       "      <td>False</td>\n",
       "      <td>False</td>\n",
       "      <td>False</td>\n",
       "      <td>False</td>\n",
       "      <td>False</td>\n",
       "      <td>False</td>\n",
       "      <td>False</td>\n",
       "    </tr>\n",
       "    <tr>\n",
       "      <th>20</th>\n",
       "      <td>False</td>\n",
       "      <td>False</td>\n",
       "      <td>False</td>\n",
       "      <td>False</td>\n",
       "      <td>False</td>\n",
       "      <td>False</td>\n",
       "      <td>False</td>\n",
       "      <td>False</td>\n",
       "      <td>False</td>\n",
       "      <td>False</td>\n",
       "    </tr>\n",
       "    <tr>\n",
       "      <th>21</th>\n",
       "      <td>False</td>\n",
       "      <td>False</td>\n",
       "      <td>False</td>\n",
       "      <td>False</td>\n",
       "      <td>False</td>\n",
       "      <td>False</td>\n",
       "      <td>False</td>\n",
       "      <td>False</td>\n",
       "      <td>False</td>\n",
       "      <td>False</td>\n",
       "    </tr>\n",
       "    <tr>\n",
       "      <th>22</th>\n",
       "      <td>False</td>\n",
       "      <td>False</td>\n",
       "      <td>False</td>\n",
       "      <td>False</td>\n",
       "      <td>False</td>\n",
       "      <td>False</td>\n",
       "      <td>False</td>\n",
       "      <td>False</td>\n",
       "      <td>False</td>\n",
       "      <td>False</td>\n",
       "    </tr>\n",
       "    <tr>\n",
       "      <th>23</th>\n",
       "      <td>False</td>\n",
       "      <td>False</td>\n",
       "      <td>False</td>\n",
       "      <td>False</td>\n",
       "      <td>False</td>\n",
       "      <td>False</td>\n",
       "      <td>False</td>\n",
       "      <td>False</td>\n",
       "      <td>False</td>\n",
       "      <td>False</td>\n",
       "    </tr>\n",
       "    <tr>\n",
       "      <th>24</th>\n",
       "      <td>False</td>\n",
       "      <td>False</td>\n",
       "      <td>False</td>\n",
       "      <td>False</td>\n",
       "      <td>False</td>\n",
       "      <td>False</td>\n",
       "      <td>False</td>\n",
       "      <td>False</td>\n",
       "      <td>False</td>\n",
       "      <td>False</td>\n",
       "    </tr>\n",
       "    <tr>\n",
       "      <th>25</th>\n",
       "      <td>False</td>\n",
       "      <td>False</td>\n",
       "      <td>False</td>\n",
       "      <td>False</td>\n",
       "      <td>False</td>\n",
       "      <td>False</td>\n",
       "      <td>False</td>\n",
       "      <td>False</td>\n",
       "      <td>False</td>\n",
       "      <td>False</td>\n",
       "    </tr>\n",
       "    <tr>\n",
       "      <th>26</th>\n",
       "      <td>False</td>\n",
       "      <td>False</td>\n",
       "      <td>False</td>\n",
       "      <td>False</td>\n",
       "      <td>False</td>\n",
       "      <td>False</td>\n",
       "      <td>False</td>\n",
       "      <td>False</td>\n",
       "      <td>False</td>\n",
       "      <td>False</td>\n",
       "    </tr>\n",
       "    <tr>\n",
       "      <th>27</th>\n",
       "      <td>False</td>\n",
       "      <td>False</td>\n",
       "      <td>False</td>\n",
       "      <td>False</td>\n",
       "      <td>False</td>\n",
       "      <td>False</td>\n",
       "      <td>False</td>\n",
       "      <td>False</td>\n",
       "      <td>False</td>\n",
       "      <td>False</td>\n",
       "    </tr>\n",
       "    <tr>\n",
       "      <th>28</th>\n",
       "      <td>False</td>\n",
       "      <td>False</td>\n",
       "      <td>False</td>\n",
       "      <td>False</td>\n",
       "      <td>False</td>\n",
       "      <td>False</td>\n",
       "      <td>False</td>\n",
       "      <td>False</td>\n",
       "      <td>False</td>\n",
       "      <td>False</td>\n",
       "    </tr>\n",
       "    <tr>\n",
       "      <th>29</th>\n",
       "      <td>False</td>\n",
       "      <td>False</td>\n",
       "      <td>False</td>\n",
       "      <td>False</td>\n",
       "      <td>False</td>\n",
       "      <td>False</td>\n",
       "      <td>False</td>\n",
       "      <td>False</td>\n",
       "      <td>False</td>\n",
       "      <td>False</td>\n",
       "    </tr>\n",
       "    <tr>\n",
       "      <th>30</th>\n",
       "      <td>False</td>\n",
       "      <td>False</td>\n",
       "      <td>False</td>\n",
       "      <td>False</td>\n",
       "      <td>False</td>\n",
       "      <td>False</td>\n",
       "      <td>False</td>\n",
       "      <td>False</td>\n",
       "      <td>False</td>\n",
       "      <td>False</td>\n",
       "    </tr>\n",
       "    <tr>\n",
       "      <th>...</th>\n",
       "      <td>...</td>\n",
       "      <td>...</td>\n",
       "      <td>...</td>\n",
       "      <td>...</td>\n",
       "      <td>...</td>\n",
       "      <td>...</td>\n",
       "      <td>...</td>\n",
       "      <td>...</td>\n",
       "      <td>...</td>\n",
       "      <td>...</td>\n",
       "    </tr>\n",
       "    <tr>\n",
       "      <th>565</th>\n",
       "      <td>False</td>\n",
       "      <td>False</td>\n",
       "      <td>False</td>\n",
       "      <td>False</td>\n",
       "      <td>False</td>\n",
       "      <td>False</td>\n",
       "      <td>False</td>\n",
       "      <td>False</td>\n",
       "      <td>False</td>\n",
       "      <td>False</td>\n",
       "    </tr>\n",
       "    <tr>\n",
       "      <th>566</th>\n",
       "      <td>False</td>\n",
       "      <td>False</td>\n",
       "      <td>False</td>\n",
       "      <td>False</td>\n",
       "      <td>False</td>\n",
       "      <td>False</td>\n",
       "      <td>False</td>\n",
       "      <td>False</td>\n",
       "      <td>False</td>\n",
       "      <td>False</td>\n",
       "    </tr>\n",
       "    <tr>\n",
       "      <th>567</th>\n",
       "      <td>False</td>\n",
       "      <td>False</td>\n",
       "      <td>False</td>\n",
       "      <td>False</td>\n",
       "      <td>False</td>\n",
       "      <td>False</td>\n",
       "      <td>False</td>\n",
       "      <td>False</td>\n",
       "      <td>False</td>\n",
       "      <td>False</td>\n",
       "    </tr>\n",
       "    <tr>\n",
       "      <th>568</th>\n",
       "      <td>False</td>\n",
       "      <td>False</td>\n",
       "      <td>False</td>\n",
       "      <td>False</td>\n",
       "      <td>False</td>\n",
       "      <td>False</td>\n",
       "      <td>False</td>\n",
       "      <td>False</td>\n",
       "      <td>False</td>\n",
       "      <td>False</td>\n",
       "    </tr>\n",
       "    <tr>\n",
       "      <th>569</th>\n",
       "      <td>False</td>\n",
       "      <td>False</td>\n",
       "      <td>False</td>\n",
       "      <td>False</td>\n",
       "      <td>False</td>\n",
       "      <td>False</td>\n",
       "      <td>False</td>\n",
       "      <td>False</td>\n",
       "      <td>False</td>\n",
       "      <td>False</td>\n",
       "    </tr>\n",
       "    <tr>\n",
       "      <th>570</th>\n",
       "      <td>False</td>\n",
       "      <td>False</td>\n",
       "      <td>False</td>\n",
       "      <td>False</td>\n",
       "      <td>False</td>\n",
       "      <td>False</td>\n",
       "      <td>False</td>\n",
       "      <td>False</td>\n",
       "      <td>False</td>\n",
       "      <td>False</td>\n",
       "    </tr>\n",
       "    <tr>\n",
       "      <th>571</th>\n",
       "      <td>False</td>\n",
       "      <td>False</td>\n",
       "      <td>False</td>\n",
       "      <td>False</td>\n",
       "      <td>False</td>\n",
       "      <td>False</td>\n",
       "      <td>False</td>\n",
       "      <td>False</td>\n",
       "      <td>False</td>\n",
       "      <td>False</td>\n",
       "    </tr>\n",
       "    <tr>\n",
       "      <th>572</th>\n",
       "      <td>False</td>\n",
       "      <td>False</td>\n",
       "      <td>False</td>\n",
       "      <td>False</td>\n",
       "      <td>False</td>\n",
       "      <td>False</td>\n",
       "      <td>False</td>\n",
       "      <td>False</td>\n",
       "      <td>False</td>\n",
       "      <td>False</td>\n",
       "    </tr>\n",
       "    <tr>\n",
       "      <th>573</th>\n",
       "      <td>False</td>\n",
       "      <td>False</td>\n",
       "      <td>False</td>\n",
       "      <td>False</td>\n",
       "      <td>False</td>\n",
       "      <td>False</td>\n",
       "      <td>False</td>\n",
       "      <td>False</td>\n",
       "      <td>False</td>\n",
       "      <td>False</td>\n",
       "    </tr>\n",
       "    <tr>\n",
       "      <th>574</th>\n",
       "      <td>False</td>\n",
       "      <td>False</td>\n",
       "      <td>False</td>\n",
       "      <td>False</td>\n",
       "      <td>False</td>\n",
       "      <td>False</td>\n",
       "      <td>False</td>\n",
       "      <td>False</td>\n",
       "      <td>False</td>\n",
       "      <td>False</td>\n",
       "    </tr>\n",
       "    <tr>\n",
       "      <th>575</th>\n",
       "      <td>False</td>\n",
       "      <td>False</td>\n",
       "      <td>False</td>\n",
       "      <td>False</td>\n",
       "      <td>False</td>\n",
       "      <td>False</td>\n",
       "      <td>False</td>\n",
       "      <td>False</td>\n",
       "      <td>False</td>\n",
       "      <td>False</td>\n",
       "    </tr>\n",
       "    <tr>\n",
       "      <th>576</th>\n",
       "      <td>False</td>\n",
       "      <td>False</td>\n",
       "      <td>False</td>\n",
       "      <td>False</td>\n",
       "      <td>False</td>\n",
       "      <td>False</td>\n",
       "      <td>False</td>\n",
       "      <td>False</td>\n",
       "      <td>False</td>\n",
       "      <td>False</td>\n",
       "    </tr>\n",
       "    <tr>\n",
       "      <th>577</th>\n",
       "      <td>False</td>\n",
       "      <td>False</td>\n",
       "      <td>False</td>\n",
       "      <td>False</td>\n",
       "      <td>False</td>\n",
       "      <td>False</td>\n",
       "      <td>False</td>\n",
       "      <td>False</td>\n",
       "      <td>False</td>\n",
       "      <td>False</td>\n",
       "    </tr>\n",
       "    <tr>\n",
       "      <th>578</th>\n",
       "      <td>False</td>\n",
       "      <td>False</td>\n",
       "      <td>False</td>\n",
       "      <td>False</td>\n",
       "      <td>False</td>\n",
       "      <td>False</td>\n",
       "      <td>False</td>\n",
       "      <td>False</td>\n",
       "      <td>False</td>\n",
       "      <td>False</td>\n",
       "    </tr>\n",
       "    <tr>\n",
       "      <th>579</th>\n",
       "      <td>False</td>\n",
       "      <td>False</td>\n",
       "      <td>False</td>\n",
       "      <td>False</td>\n",
       "      <td>False</td>\n",
       "      <td>False</td>\n",
       "      <td>False</td>\n",
       "      <td>False</td>\n",
       "      <td>False</td>\n",
       "      <td>False</td>\n",
       "    </tr>\n",
       "    <tr>\n",
       "      <th>580</th>\n",
       "      <td>False</td>\n",
       "      <td>False</td>\n",
       "      <td>False</td>\n",
       "      <td>False</td>\n",
       "      <td>False</td>\n",
       "      <td>False</td>\n",
       "      <td>False</td>\n",
       "      <td>False</td>\n",
       "      <td>False</td>\n",
       "      <td>False</td>\n",
       "    </tr>\n",
       "    <tr>\n",
       "      <th>581</th>\n",
       "      <td>False</td>\n",
       "      <td>False</td>\n",
       "      <td>False</td>\n",
       "      <td>False</td>\n",
       "      <td>False</td>\n",
       "      <td>False</td>\n",
       "      <td>False</td>\n",
       "      <td>False</td>\n",
       "      <td>False</td>\n",
       "      <td>False</td>\n",
       "    </tr>\n",
       "    <tr>\n",
       "      <th>582</th>\n",
       "      <td>False</td>\n",
       "      <td>False</td>\n",
       "      <td>False</td>\n",
       "      <td>False</td>\n",
       "      <td>False</td>\n",
       "      <td>False</td>\n",
       "      <td>False</td>\n",
       "      <td>False</td>\n",
       "      <td>False</td>\n",
       "      <td>False</td>\n",
       "    </tr>\n",
       "    <tr>\n",
       "      <th>583</th>\n",
       "      <td>False</td>\n",
       "      <td>False</td>\n",
       "      <td>False</td>\n",
       "      <td>False</td>\n",
       "      <td>False</td>\n",
       "      <td>False</td>\n",
       "      <td>False</td>\n",
       "      <td>False</td>\n",
       "      <td>False</td>\n",
       "      <td>False</td>\n",
       "    </tr>\n",
       "    <tr>\n",
       "      <th>586</th>\n",
       "      <td>False</td>\n",
       "      <td>False</td>\n",
       "      <td>False</td>\n",
       "      <td>False</td>\n",
       "      <td>False</td>\n",
       "      <td>False</td>\n",
       "      <td>False</td>\n",
       "      <td>False</td>\n",
       "      <td>False</td>\n",
       "      <td>False</td>\n",
       "    </tr>\n",
       "    <tr>\n",
       "      <th>587</th>\n",
       "      <td>False</td>\n",
       "      <td>False</td>\n",
       "      <td>False</td>\n",
       "      <td>False</td>\n",
       "      <td>False</td>\n",
       "      <td>False</td>\n",
       "      <td>False</td>\n",
       "      <td>False</td>\n",
       "      <td>False</td>\n",
       "      <td>False</td>\n",
       "    </tr>\n",
       "    <tr>\n",
       "      <th>588</th>\n",
       "      <td>False</td>\n",
       "      <td>False</td>\n",
       "      <td>False</td>\n",
       "      <td>False</td>\n",
       "      <td>False</td>\n",
       "      <td>False</td>\n",
       "      <td>False</td>\n",
       "      <td>False</td>\n",
       "      <td>False</td>\n",
       "      <td>False</td>\n",
       "    </tr>\n",
       "    <tr>\n",
       "      <th>589</th>\n",
       "      <td>False</td>\n",
       "      <td>False</td>\n",
       "      <td>False</td>\n",
       "      <td>False</td>\n",
       "      <td>False</td>\n",
       "      <td>False</td>\n",
       "      <td>False</td>\n",
       "      <td>False</td>\n",
       "      <td>False</td>\n",
       "      <td>False</td>\n",
       "    </tr>\n",
       "    <tr>\n",
       "      <th>590</th>\n",
       "      <td>False</td>\n",
       "      <td>False</td>\n",
       "      <td>False</td>\n",
       "      <td>False</td>\n",
       "      <td>False</td>\n",
       "      <td>False</td>\n",
       "      <td>False</td>\n",
       "      <td>False</td>\n",
       "      <td>False</td>\n",
       "      <td>False</td>\n",
       "    </tr>\n",
       "    <tr>\n",
       "      <th>591</th>\n",
       "      <td>False</td>\n",
       "      <td>False</td>\n",
       "      <td>False</td>\n",
       "      <td>False</td>\n",
       "      <td>False</td>\n",
       "      <td>False</td>\n",
       "      <td>False</td>\n",
       "      <td>False</td>\n",
       "      <td>False</td>\n",
       "      <td>False</td>\n",
       "    </tr>\n",
       "    <tr>\n",
       "      <th>592</th>\n",
       "      <td>False</td>\n",
       "      <td>False</td>\n",
       "      <td>False</td>\n",
       "      <td>False</td>\n",
       "      <td>False</td>\n",
       "      <td>False</td>\n",
       "      <td>False</td>\n",
       "      <td>False</td>\n",
       "      <td>False</td>\n",
       "      <td>False</td>\n",
       "    </tr>\n",
       "    <tr>\n",
       "      <th>593</th>\n",
       "      <td>False</td>\n",
       "      <td>False</td>\n",
       "      <td>False</td>\n",
       "      <td>False</td>\n",
       "      <td>False</td>\n",
       "      <td>False</td>\n",
       "      <td>False</td>\n",
       "      <td>False</td>\n",
       "      <td>False</td>\n",
       "      <td>False</td>\n",
       "    </tr>\n",
       "    <tr>\n",
       "      <th>594</th>\n",
       "      <td>False</td>\n",
       "      <td>False</td>\n",
       "      <td>False</td>\n",
       "      <td>False</td>\n",
       "      <td>False</td>\n",
       "      <td>False</td>\n",
       "      <td>False</td>\n",
       "      <td>False</td>\n",
       "      <td>False</td>\n",
       "      <td>False</td>\n",
       "    </tr>\n",
       "    <tr>\n",
       "      <th>595</th>\n",
       "      <td>False</td>\n",
       "      <td>False</td>\n",
       "      <td>False</td>\n",
       "      <td>False</td>\n",
       "      <td>False</td>\n",
       "      <td>False</td>\n",
       "      <td>False</td>\n",
       "      <td>False</td>\n",
       "      <td>False</td>\n",
       "      <td>False</td>\n",
       "    </tr>\n",
       "    <tr>\n",
       "      <th>596</th>\n",
       "      <td>False</td>\n",
       "      <td>False</td>\n",
       "      <td>False</td>\n",
       "      <td>False</td>\n",
       "      <td>False</td>\n",
       "      <td>False</td>\n",
       "      <td>False</td>\n",
       "      <td>False</td>\n",
       "      <td>False</td>\n",
       "      <td>False</td>\n",
       "    </tr>\n",
       "  </tbody>\n",
       "</table>\n",
       "<p>594 rows × 10 columns</p>\n",
       "</div>"
      ],
      "text/plain": [
       "     STATE_LABEL  full name of US  UNITED STATES  Grouping  Job_Code  \\\n",
       "1          False            False          False     False     False   \n",
       "2          False            False          False     False     False   \n",
       "3          False            False          False     False     False   \n",
       "4          False            False          False     False     False   \n",
       "5          False            False          False     False     False   \n",
       "6          False            False          False     False     False   \n",
       "7          False            False          False     False     False   \n",
       "8          False            False          False     False     False   \n",
       "9          False            False          False     False     False   \n",
       "10         False            False          False     False     False   \n",
       "11         False            False          False     False     False   \n",
       "12         False            False          False     False     False   \n",
       "13         False            False          False     False     False   \n",
       "14         False            False          False     False     False   \n",
       "15         False            False          False     False     False   \n",
       "16         False            False          False     False     False   \n",
       "17         False            False          False     False     False   \n",
       "18         False            False          False     False     False   \n",
       "19         False            False          False     False     False   \n",
       "20         False            False          False     False     False   \n",
       "21         False            False          False     False     False   \n",
       "22         False            False          False     False     False   \n",
       "23         False            False          False     False     False   \n",
       "24         False            False          False     False     False   \n",
       "25         False            False          False     False     False   \n",
       "26         False            False          False     False     False   \n",
       "27         False            False          False     False     False   \n",
       "28         False            False          False     False     False   \n",
       "29         False            False          False     False     False   \n",
       "30         False            False          False     False     False   \n",
       "..           ...              ...            ...       ...       ...   \n",
       "565        False            False          False     False     False   \n",
       "566        False            False          False     False     False   \n",
       "567        False            False          False     False     False   \n",
       "568        False            False          False     False     False   \n",
       "569        False            False          False     False     False   \n",
       "570        False            False          False     False     False   \n",
       "571        False            False          False     False     False   \n",
       "572        False            False          False     False     False   \n",
       "573        False            False          False     False     False   \n",
       "574        False            False          False     False     False   \n",
       "575        False            False          False     False     False   \n",
       "576        False            False          False     False     False   \n",
       "577        False            False          False     False     False   \n",
       "578        False            False          False     False     False   \n",
       "579        False            False          False     False     False   \n",
       "580        False            False          False     False     False   \n",
       "581        False            False          False     False     False   \n",
       "582        False            False          False     False     False   \n",
       "583        False            False          False     False     False   \n",
       "586        False            False          False     False     False   \n",
       "587        False            False          False     False     False   \n",
       "588        False            False          False     False     False   \n",
       "589        False            False          False     False     False   \n",
       "590        False            False          False     False     False   \n",
       "591        False            False          False     False     False   \n",
       "592        False            False          False     False     False   \n",
       "593        False            False          False     False     False   \n",
       "594        False            False          False     False     False   \n",
       "595        False            False          False     False     False   \n",
       "596        False            False          False     False     False   \n",
       "\n",
       "     Job_Desc    Sex   Race  Measure  Units  \n",
       "1       False  False  False    False  False  \n",
       "2       False  False  False    False  False  \n",
       "3       False  False  False    False  False  \n",
       "4       False  False  False    False  False  \n",
       "5       False  False  False    False  False  \n",
       "6       False  False  False    False  False  \n",
       "7       False  False  False    False  False  \n",
       "8       False  False  False    False  False  \n",
       "9       False  False  False    False  False  \n",
       "10      False  False  False    False  False  \n",
       "11      False  False  False    False  False  \n",
       "12      False  False  False    False  False  \n",
       "13      False  False  False    False  False  \n",
       "14      False  False  False    False  False  \n",
       "15      False  False  False    False  False  \n",
       "16      False  False  False    False  False  \n",
       "17      False  False  False    False  False  \n",
       "18      False  False  False    False  False  \n",
       "19      False  False  False    False  False  \n",
       "20      False  False  False    False  False  \n",
       "21      False  False  False    False  False  \n",
       "22      False  False  False    False  False  \n",
       "23      False  False  False    False  False  \n",
       "24      False  False  False    False  False  \n",
       "25      False  False  False    False  False  \n",
       "26      False  False  False    False  False  \n",
       "27      False  False  False    False  False  \n",
       "28      False  False  False    False  False  \n",
       "29      False  False  False    False  False  \n",
       "30      False  False  False    False  False  \n",
       "..        ...    ...    ...      ...    ...  \n",
       "565     False  False  False    False  False  \n",
       "566     False  False  False    False  False  \n",
       "567     False  False  False    False  False  \n",
       "568     False  False  False    False  False  \n",
       "569     False  False  False    False  False  \n",
       "570     False  False  False    False  False  \n",
       "571     False  False  False    False  False  \n",
       "572     False  False  False    False  False  \n",
       "573     False  False  False    False  False  \n",
       "574     False  False  False    False  False  \n",
       "575     False  False  False    False  False  \n",
       "576     False  False  False    False  False  \n",
       "577     False  False  False    False  False  \n",
       "578     False  False  False    False  False  \n",
       "579     False  False  False    False  False  \n",
       "580     False  False  False    False  False  \n",
       "581     False  False  False    False  False  \n",
       "582     False  False  False    False  False  \n",
       "583     False  False  False    False  False  \n",
       "586     False  False  False    False  False  \n",
       "587     False  False  False    False  False  \n",
       "588     False  False  False    False  False  \n",
       "589     False  False  False    False  False  \n",
       "590     False  False  False    False  False  \n",
       "591     False  False  False    False  False  \n",
       "592     False  False  False    False  False  \n",
       "593     False  False  False    False  False  \n",
       "594     False  False  False    False  False  \n",
       "595     False  False  False    False  False  \n",
       "596     False  False  False    False  False  \n",
       "\n",
       "[594 rows x 10 columns]"
      ]
     },
     "execution_count": 118,
     "metadata": {},
     "output_type": "execute_result"
    }
   ],
   "source": [
    "dfClean2.isnull()"
   ]
  },
  {
   "cell_type": "code",
   "execution_count": 119,
   "metadata": {},
   "outputs": [],
   "source": [
    "#Change columns name\n",
    "# Replace column name 'UNITED STATES'-> TotalNum\n",
    "# Replace column name STATE_LABEL-> Label\n",
    "# Replace column name full name of US-> Description\n",
    "\n",
    "dfClean3 = dfClean2.rename(columns={\"UNITED STATES\":\"Total\",\"STATE_LABEL\":\"Label\", \"full name of US\":\"Description\"}, inplace = True)\n"
   ]
  },
  {
   "cell_type": "code",
   "execution_count": 120,
   "metadata": {},
   "outputs": [
    {
     "data": {
      "text/plain": [
       "Index(['Label', 'Description', 'Total', 'Grouping', 'Job_Code', 'Job_Desc',\n",
       "       'Sex', 'Race', 'Measure', 'Units'],\n",
       "      dtype='object')"
      ]
     },
     "execution_count": 120,
     "metadata": {},
     "output_type": "execute_result"
    }
   ],
   "source": [
    "dfClean2.columns"
   ]
  },
  {
   "cell_type": "code",
   "execution_count": 121,
   "metadata": {},
   "outputs": [],
   "source": [
    "# Create a df for Percent Measure and another with number Column:\n",
    "\n",
    "dfNumbers = dfClean2[dfClean2.Measure != \"Percent\" ]"
   ]
  },
  {
   "cell_type": "code",
   "execution_count": 122,
   "metadata": {},
   "outputs": [
    {
     "data": {
      "text/plain": [
       "Number    297\n",
       "Name: Measure, dtype: int64"
      ]
     },
     "execution_count": 122,
     "metadata": {},
     "output_type": "execute_result"
    }
   ],
   "source": [
    "dfNumbers[\"Measure\"].value_counts()"
   ]
  },
  {
   "cell_type": "code",
   "execution_count": 123,
   "metadata": {},
   "outputs": [
    {
     "data": {
      "text/plain": [
       "(297, 10)"
      ]
     },
     "execution_count": 123,
     "metadata": {},
     "output_type": "execute_result"
    }
   ],
   "source": [
    "#dfDCNumeric.shape\n",
    "\n",
    "dfNumbers.shape\n"
   ]
  },
  {
   "cell_type": "code",
   "execution_count": 124,
   "metadata": {},
   "outputs": [
    {
     "data": {
      "text/plain": [
       "([0, 1, 2, 3, 4, 5, 6, 7, 8, 9, 10], <a list of 11 Text xticklabel objects>)"
      ]
     },
     "execution_count": 124,
     "metadata": {},
     "output_type": "execute_result"
    },
    {
     "data": {
      "image/png": "[encoded data removed]",
      "text/plain": [
       "<Figure size 413.75x360 with 1 Axes>"
      ]
     },
     "metadata": {
      "needs_background": "light"
     },
     "output_type": "display_data"
    }
   ],
   "source": [
    "#\n",
    "\n",
    "sns.lmplot (x=\"Job_Desc\", y=\"Total\", data = dfNumbers, fit_reg = False, hue=\"Job_Code\",scatter_kws={\"s\": 100} )\n",
    "\n",
    "plt.xticks (rotation = -45)"
   ]
  },
  {
   "cell_type": "code",
   "execution_count": 125,
   "metadata": {},
   "outputs": [],
   "source": [
    "#Creating Dataframes based on specific Groupings\n",
    "#cust_sell = mainDf[mainDf.Type == 'S']\n",
    "#cust_buy = mainDf[mainDf.Type == 'P']\n",
    "\n",
    "dfTotal= dfNumbers[dfNumbers.Grouping == \"TOTAL\"]\n"
   ]
  },
  {
   "cell_type": "code",
   "execution_count": 126,
   "metadata": {},
   "outputs": [],
   "source": [
    "#Deleting the outlier job code = 10  for all groups \n",
    "#Groups affected : Total, WHT,BLKT,HIST, ASIANT, AIANT=Indian Total, nhopiT= Hawaiian , tomrT= Two Race Minorities"
   ]
  },
  {
   "cell_type": "code",
   "execution_count": 127,
   "metadata": {},
   "outputs": [
    {
     "data": {
      "text/plain": [
       "TOTAL    11\n",
       "Name: Grouping, dtype: int64"
      ]
     },
     "execution_count": 127,
     "metadata": {},
     "output_type": "execute_result"
    }
   ],
   "source": [
    "dfTotal[\"Grouping\"].value_counts()"
   ]
  },
  {
   "cell_type": "code",
   "execution_count": 128,
   "metadata": {},
   "outputs": [
    {
     "data": {
      "text/plain": [
       "([0, 1, 2, 3, 4, 5, 6, 7, 8, 9, 10], <a list of 11 Text xticklabel objects>)"
      ]
     },
     "execution_count": 128,
     "metadata": {},
     "output_type": "execute_result"
    },
    {
     "data": {
      "image/png": "[encoded data removed]",
      "text/plain": [
       "<Figure size 413.75x360 with 1 Axes>"
      ]
     },
     "metadata": {
      "needs_background": "light"
     },
     "output_type": "display_data"
    }
   ],
   "source": [
    "sns.lmplot (x=\"Job_Desc\", y=\"Total\", data = dfTotal, fit_reg = False, hue=\"Job_Code\",scatter_kws={\"s\": 100} )\n",
    "\n",
    "plt.xticks (rotation = -45)"
   ]
  },
  {
   "cell_type": "code",
   "execution_count": 129,
   "metadata": {},
   "outputs": [],
   "source": [
    "#Zoom in creating a df where  Job Code 10= total is not included\n",
    "\n",
    "dfTotal1 = dfTotal[dfTotal.Job_Desc != \"TOTAL\" ]"
   ]
  },
  {
   "cell_type": "code",
   "execution_count": 130,
   "metadata": {},
   "outputs": [
    {
     "data": {
      "text/plain": [
       "([0, 1, 2, 3, 4, 5, 6, 7, 8, 9], <a list of 10 Text xticklabel objects>)"
      ]
     },
     "execution_count": 130,
     "metadata": {},
     "output_type": "execute_result"
    },
    {
     "data": {
      "image/png": "[encoded data removed]",
      "text/plain": [
       "<Figure size 413.75x360 with 1 Axes>"
      ]
     },
     "metadata": {
      "needs_background": "light"
     },
     "output_type": "display_data"
    }
   ],
   "source": [
    "sns.lmplot (x=\"Job_Desc\", y=\"Total\", data = dfTotal1, fit_reg = False, hue=\"Job_Code\",scatter_kws={\"s\": 100} )\n",
    "\n",
    "plt.xticks (rotation = -45)"
   ]
  },
  {
   "cell_type": "markdown",
   "metadata": {},
   "source": [
    "# Comment Workforce by Job Category\n",
    "Total Distribution of Workforce by Job Category where Professional and Service Job Categories have the highest participation"
   ]
  },
  {
   "cell_type": "code",
   "execution_count": 131,
   "metadata": {},
   "outputs": [],
   "source": [
    "dfMalesTotal= dfNumbers[dfNumbers.Grouping == \"MT\"]"
   ]
  },
  {
   "cell_type": "code",
   "execution_count": 132,
   "metadata": {},
   "outputs": [
    {
     "data": {
      "text/plain": [
       "([0, 1, 2, 3, 4, 5, 6, 7, 8, 9, 10], <a list of 11 Text xticklabel objects>)"
      ]
     },
     "execution_count": 132,
     "metadata": {},
     "output_type": "execute_result"
    },
    {
     "data": {
      "image/png": "[encoded data removed]",
      "text/plain": [
       "<Figure size 413.75x360 with 1 Axes>"
      ]
     },
     "metadata": {
      "needs_background": "light"
     },
     "output_type": "display_data"
    }
   ],
   "source": [
    "sns.lmplot (x=\"Job_Desc\", y=\"Total\", data = dfMalesTotal, fit_reg = False, hue=\"Job_Code\",scatter_kws={\"s\": 100} )\n",
    "\n",
    "plt.xticks (rotation = -45)"
   ]
  },
  {
   "cell_type": "code",
   "execution_count": 133,
   "metadata": {},
   "outputs": [],
   "source": [
    "#Zoom in creating a df where  Job Code 10= total is not included\n",
    "\n",
    "dfMalesTotal1 = dfMalesTotal[dfMalesTotal.Job_Desc != \"TOTAL\" ]"
   ]
  },
  {
   "cell_type": "code",
   "execution_count": 134,
   "metadata": {},
   "outputs": [
    {
     "data": {
      "text/plain": [
       "([0, 1, 2, 3, 4, 5, 6, 7, 8, 9], <a list of 10 Text xticklabel objects>)"
      ]
     },
     "execution_count": 134,
     "metadata": {},
     "output_type": "execute_result"
    },
    {
     "data": {
      "image/png": "[encoded data removed]",
      "text/plain": [
       "<Figure size 413.75x360 with 1 Axes>"
      ]
     },
     "metadata": {
      "needs_background": "light"
     },
     "output_type": "display_data"
    }
   ],
   "source": [
    "sns.lmplot (x=\"Job_Desc\", y=\"Total\", data = dfMalesTotal1, fit_reg = False, hue=\"Job_Code\",scatter_kws={\"s\": 100} )\n",
    "\n",
    "plt.xticks (rotation = -45)"
   ]
  },
  {
   "cell_type": "markdown",
   "metadata": {},
   "source": [
    "# Comment Males all Races\n",
    "Job Distribution for Males all Races where Professional and Operational Jobs have the highest participation"
   ]
  },
  {
   "cell_type": "code",
   "execution_count": 135,
   "metadata": {},
   "outputs": [],
   "source": [
    "dfFemaleTotal= dfNumbers[dfNumbers.Grouping == \"FT\"]"
   ]
  },
  {
   "cell_type": "code",
   "execution_count": 136,
   "metadata": {},
   "outputs": [
    {
     "data": {
      "text/plain": [
       "([0, 1, 2, 3, 4, 5, 6, 7, 8, 9, 10], <a list of 11 Text xticklabel objects>)"
      ]
     },
     "execution_count": 136,
     "metadata": {},
     "output_type": "execute_result"
    },
    {
     "data": {
      "image/png": "[encoded data removed]",
      "text/plain": [
       "<Figure size 413.75x360 with 1 Axes>"
      ]
     },
     "metadata": {
      "needs_background": "light"
     },
     "output_type": "display_data"
    }
   ],
   "source": [
    "sns.lmplot (x=\"Job_Desc\", y=\"Total\", data = dfFemaleTotal, fit_reg = False, hue=\"Job_Code\",scatter_kws={\"s\": 100} )\n",
    "\n",
    "plt.xticks (rotation = -45)"
   ]
  },
  {
   "cell_type": "code",
   "execution_count": 137,
   "metadata": {},
   "outputs": [],
   "source": [
    "#Zoom in creating a df where  Job Code 10= total is not included\n",
    "\n",
    "dfFemaleTotal1 = dfFemaleTotal[dfFemaleTotal.Job_Desc != \"TOTAL\" ]"
   ]
  },
  {
   "cell_type": "code",
   "execution_count": 138,
   "metadata": {},
   "outputs": [
    {
     "data": {
      "text/plain": [
       "([0, 1, 2, 3, 4, 5, 6, 7, 8, 9], <a list of 10 Text xticklabel objects>)"
      ]
     },
     "execution_count": 138,
     "metadata": {},
     "output_type": "execute_result"
    },
    {
     "data": {
      "image/png": "[encoded data removed]",
      "text/plain": [
       "<Figure size 413.75x360 with 1 Axes>"
      ]
     },
     "metadata": {
      "needs_background": "light"
     },
     "output_type": "display_data"
    }
   ],
   "source": [
    "sns.lmplot (x=\"Job_Desc\", y=\"Total\", data = dfFemaleTotal1, fit_reg = False, hue=\"Job_Code\",scatter_kws={\"s\": 100} )\n",
    "\n",
    "plt.xticks (rotation = -45)"
   ]
  },
  {
   "cell_type": "markdown",
   "metadata": {},
   "source": [
    "# Comment Females All Races\n",
    "\n",
    "Job distribution among Females where Crearical and Professional have the highest participation"
   ]
  },
  {
   "cell_type": "code",
   "execution_count": 139,
   "metadata": {},
   "outputs": [],
   "source": [
    "#Df for WT= White Total\n",
    "\n",
    "dfWHitesT= dfNumbers[dfNumbers.Grouping == \"WHT\"]"
   ]
  },
  {
   "cell_type": "code",
   "execution_count": 140,
   "metadata": {},
   "outputs": [
    {
     "data": {
      "text/plain": [
       "([0, 1, 2, 3, 4, 5, 6, 7, 8, 9, 10], <a list of 11 Text xticklabel objects>)"
      ]
     },
     "execution_count": 140,
     "metadata": {},
     "output_type": "execute_result"
    },
    {
     "data": {
      "image/png": "[encoded data removed]",
      "text/plain": [
       "<Figure size 413.75x360 with 1 Axes>"
      ]
     },
     "metadata": {
      "needs_background": "light"
     },
     "output_type": "display_data"
    }
   ],
   "source": [
    "sns.lmplot (x=\"Job_Desc\", y=\"Total\", data = dfWHitesT, fit_reg = False, hue=\"Job_Code\",scatter_kws={\"s\": 100} )\n",
    "\n",
    "plt.xticks (rotation = -45)"
   ]
  },
  {
   "cell_type": "code",
   "execution_count": 141,
   "metadata": {},
   "outputs": [],
   "source": [
    "#Zoom in creating a df where 10= total is not included\n",
    "\n",
    "dfWHitesT1 = dfWHitesT[dfWHitesT.Job_Desc != \"TOTAL\" ]"
   ]
  },
  {
   "cell_type": "code",
   "execution_count": 142,
   "metadata": {},
   "outputs": [
    {
     "data": {
      "text/plain": [
       "([0, 1, 2, 3, 4, 5, 6, 7, 8, 9], <a list of 10 Text xticklabel objects>)"
      ]
     },
     "execution_count": 142,
     "metadata": {},
     "output_type": "execute_result"
    },
    {
     "data": {
      "image/png": "[encoded data removed]",
      "text/plain": [
       "<Figure size 413.75x360 with 1 Axes>"
      ]
     },
     "metadata": {
      "needs_background": "light"
     },
     "output_type": "display_data"
    }
   ],
   "source": [
    "#Zoom in Job Level Distribution in whites. \n",
    "\n",
    "sns.lmplot (x=\"Job_Desc\", y=\"Total\", data = dfWHitesT1, fit_reg = False, hue=\"Job_Code\",scatter_kws={\"s\": 100} )\n",
    "\n",
    "plt.xticks (rotation = -45)"
   ]
  },
  {
   "cell_type": "markdown",
   "metadata": {},
   "source": [
    "# Comments Whites All Genders\n",
    "\n",
    "Job Distribution for Whites where Professional and Clerical have the highest participation.\n"
   ]
  },
  {
   "cell_type": "code",
   "execution_count": 143,
   "metadata": {},
   "outputs": [],
   "source": [
    "#Df for WT= Black Total\n",
    "\n",
    "dfBlacksT= dfNumbers[dfNumbers.Grouping == \"BLKT\"]"
   ]
  },
  {
   "cell_type": "code",
   "execution_count": 144,
   "metadata": {},
   "outputs": [
    {
     "data": {
      "text/plain": [
       "([0, 1, 2, 3, 4, 5, 6, 7, 8, 9, 10], <a list of 11 Text xticklabel objects>)"
      ]
     },
     "execution_count": 144,
     "metadata": {},
     "output_type": "execute_result"
    },
    {
     "data": {
      "image/png": "[encoded data removed]",
      "text/plain": [
       "<Figure size 413.75x360 with 1 Axes>"
      ]
     },
     "metadata": {
      "needs_background": "light"
     },
     "output_type": "display_data"
    }
   ],
   "source": [
    "sns.lmplot (x=\"Job_Desc\", y=\"Total\", data = dfBlacksT, fit_reg = False, hue=\"Job_Code\",scatter_kws={\"s\": 100} )\n",
    "\n",
    "plt.xticks (rotation = -45)"
   ]
  },
  {
   "cell_type": "code",
   "execution_count": 145,
   "metadata": {},
   "outputs": [],
   "source": [
    "#Zoom in creating a df where 10= total is not included\n",
    "\n",
    "dfBlacksT1 = dfBlacksT[dfBlacksT.Job_Desc != \"TOTAL\" ]"
   ]
  },
  {
   "cell_type": "code",
   "execution_count": 146,
   "metadata": {},
   "outputs": [
    {
     "data": {
      "text/plain": [
       "([0, 1, 2, 3, 4, 5, 6, 7, 8, 9], <a list of 10 Text xticklabel objects>)"
      ]
     },
     "execution_count": 146,
     "metadata": {},
     "output_type": "execute_result"
    },
    {
     "data": {
      "image/png": "[encoded data removed]",
      "text/plain": [
       "<Figure size 462.25x360 with 1 Axes>"
      ]
     },
     "metadata": {
      "needs_background": "light"
     },
     "output_type": "display_data"
    }
   ],
   "source": [
    "#Zoom in Job Level Distribution in blacks. \n",
    "\n",
    "sns.lmplot (x=\"Job_Code\", y=\"Total\", data = dfBlacksT1, fit_reg = False, hue=\"Job_Desc\",scatter_kws={\"s\": 100} )\n",
    "\n",
    "plt.xticks (rotation = -45)"
   ]
  },
  {
   "cell_type": "markdown",
   "metadata": {},
   "source": [
    "# Comment Blacks All Genders\n",
    "\n",
    "Job distribution among Blacks where Service and Clarical jobs have the highest participation"
   ]
  },
  {
   "cell_type": "code",
   "execution_count": 147,
   "metadata": {},
   "outputs": [],
   "source": [
    "#Df for HISPT= Hispanics Total\n",
    "\n",
    "dfHispanicsT= dfNumbers[dfNumbers.Grouping == \"HISPT\"]"
   ]
  },
  {
   "cell_type": "code",
   "execution_count": 148,
   "metadata": {},
   "outputs": [
    {
     "data": {
      "text/plain": [
       "([0, 1, 2, 3, 4, 5, 6, 7, 8, 9, 10], <a list of 11 Text xticklabel objects>)"
      ]
     },
     "execution_count": 148,
     "metadata": {},
     "output_type": "execute_result"
    },
    {
     "data": {
      "image/png": "[encoded data removed]",
      "text/plain": [
       "<Figure size 462.25x360 with 1 Axes>"
      ]
     },
     "metadata": {
      "needs_background": "light"
     },
     "output_type": "display_data"
    }
   ],
   "source": [
    "sns.lmplot (x=\"Job_Code\", y=\"Total\", data = dfHispanicsT, fit_reg = False, hue=\"Job_Desc\",scatter_kws={\"s\": 100} )\n",
    "\n",
    "plt.xticks (rotation = -45)"
   ]
  },
  {
   "cell_type": "code",
   "execution_count": 149,
   "metadata": {},
   "outputs": [],
   "source": [
    "#Zoom in creating a df where 10= total is not included\n",
    "\n",
    "dfHispanicsT1 = dfHispanicsT[dfHispanicsT.Job_Desc != \"TOTAL\" ]"
   ]
  },
  {
   "cell_type": "code",
   "execution_count": 150,
   "metadata": {},
   "outputs": [
    {
     "data": {
      "text/plain": [
       "([0, 1, 2, 3, 4, 5, 6, 7, 8, 9], <a list of 10 Text xticklabel objects>)"
      ]
     },
     "execution_count": 150,
     "metadata": {},
     "output_type": "execute_result"
    },
    {
     "data": {
      "image/png": "[encoded data removed]",
      "text/plain": [
       "<Figure size 462.25x360 with 1 Axes>"
      ]
     },
     "metadata": {
      "needs_background": "light"
     },
     "output_type": "display_data"
    }
   ],
   "source": [
    "#Zoom in Job Level Distribution in hispanics. \n",
    "\n",
    "sns.lmplot (x=\"Job_Code\", y=\"Total\", data = dfHispanicsT1, fit_reg = False, hue=\"Job_Desc\",scatter_kws={\"s\": 100} )\n",
    "\n",
    "plt.xticks (rotation = -45)"
   ]
  },
  {
   "cell_type": "code",
   "execution_count": 151,
   "metadata": {},
   "outputs": [
    {
     "data": {
      "text/plain": [
       "6823367.0"
      ]
     },
     "execution_count": 151,
     "metadata": {},
     "output_type": "execute_result"
    }
   ],
   "source": [
    "dfHispanicsT1[\"Total\"].sum()"
   ]
  },
  {
   "cell_type": "code",
   "execution_count": 152,
   "metadata": {},
   "outputs": [],
   "source": [
    "hispanicsTotalNum= dfHispanicsT1[\"Total\"].sum()"
   ]
  },
  {
   "cell_type": "code",
   "execution_count": 153,
   "metadata": {},
   "outputs": [
    {
     "name": "stdout",
     "output_type": "stream",
     "text": [
      "Total Hispanics:  6823367.0\n"
     ]
    }
   ],
   "source": [
    "print(\"Total Hispanics: \", hispanicsTotalNum)"
   ]
  },
  {
   "cell_type": "code",
   "execution_count": 154,
   "metadata": {},
   "outputs": [
    {
     "name": "stdout",
     "output_type": "stream",
     "text": [
      "        Label                    Description      Total Grouping Job_Code  \\\n",
      "100    HISPT1   HISPANIC SENIOR OFF AND MGRS    32963.0    HISPT        1   \n",
      "101    HISPT2         HISPANIC PROFESSIONALS   468136.0    HISPT        2   \n",
      "102    HISPT3           HISPANIC TECHNICIANS   257968.0    HISPT        3   \n",
      "103    HISPT4         HISPANIC SALES WORKERS   683074.0    HISPT        4   \n",
      "104    HISPT5  HISPANIC OFFICE AND CLERICALS   778109.0    HISPT        5   \n",
      "105    HISPT6         HISPANIC CRAFT WORKERS   525666.0    HISPT        6   \n",
      "106    HISPT7            HISPANIC OPERATIVES   997623.0    HISPT        7   \n",
      "107    HISPT8              HISPANIC LABORERS  1292702.0    HISPT        8   \n",
      "108    HISPT9       HISPANIC SERVICE WORKERS  1478505.0    HISPT        9   \n",
      "110  HISPT1_2      HISPANIC MID OFF AND MGRS   308621.0    HISPT      1_2   \n",
      "\n",
      "        Job_Desc       Sex      Race Measure         Units  \n",
      "100  Senior_MGRS  Both_Sex  Hispanic  Number  Partial_Race  \n",
      "101         PROF  Both_Sex  Hispanic  Number  Partial_Race  \n",
      "102         TECH  Both_Sex  Hispanic  Number  Partial_Race  \n",
      "103         SALE  Both_Sex  Hispanic  Number  Partial_Race  \n",
      "104    CLERICALS  Both_Sex  Hispanic  Number  Partial_Race  \n",
      "105        CRAFT  Both_Sex  Hispanic  Number  Partial_Race  \n",
      "106         OPER  Both_Sex  Hispanic  Number  Partial_Race  \n",
      "107       LABORS  Both_Sex  Hispanic  Number  Partial_Race  \n",
      "108      Service  Both_Sex  Hispanic  Number  Partial_Race  \n",
      "110     Mid_MGRS  Both_Sex  Hispanic  Number  Partial_Race  \n"
     ]
    }
   ],
   "source": [
    "print(dfHispanicsT1)"
   ]
  },
  {
   "cell_type": "markdown",
   "metadata": {},
   "source": [
    "# Comment Hispanics All Genders\n",
    "\n",
    "Job distribution among hispanics where Service and Labors have the highest participation\n",
    ". Graphic suggest an inversed relationship between participation and Job-Skill Demand"
   ]
  },
  {
   "cell_type": "code",
   "execution_count": 155,
   "metadata": {},
   "outputs": [],
   "source": [
    "#Df for ASIANT= Asian Total\n",
    "\n",
    "dfAsiansT= dfNumbers[dfNumbers.Grouping == \"ASIANT\"]"
   ]
  },
  {
   "cell_type": "code",
   "execution_count": 156,
   "metadata": {},
   "outputs": [
    {
     "data": {
      "text/plain": [
       "([0, 1, 2, 3, 4, 5, 6, 7, 8, 9, 10], <a list of 11 Text xticklabel objects>)"
      ]
     },
     "execution_count": 156,
     "metadata": {},
     "output_type": "execute_result"
    },
    {
     "data": {
      "image/png": "[encoded data removed]",
      "text/plain": [
       "<Figure size 462.25x360 with 1 Axes>"
      ]
     },
     "metadata": {
      "needs_background": "light"
     },
     "output_type": "display_data"
    }
   ],
   "source": [
    "sns.lmplot (x=\"Job_Code\", y=\"Total\", data = dfAsiansT, fit_reg = False, hue=\"Job_Desc\",scatter_kws={\"s\": 100} )\n",
    "\n",
    "plt.xticks (rotation = -45)"
   ]
  },
  {
   "cell_type": "code",
   "execution_count": 157,
   "metadata": {},
   "outputs": [],
   "source": [
    "#Zoom in creating a df where 10= total is not included\n",
    "\n",
    "dfAsiansT1 = dfAsiansT[dfAsiansT.Job_Desc != \"TOTAL\" ]"
   ]
  },
  {
   "cell_type": "code",
   "execution_count": 158,
   "metadata": {},
   "outputs": [
    {
     "data": {
      "text/plain": [
       "([0, 1, 2, 3, 4, 5, 6, 7, 8, 9], <a list of 10 Text xticklabel objects>)"
      ]
     },
     "execution_count": 158,
     "metadata": {},
     "output_type": "execute_result"
    },
    {
     "data": {
      "image/png": "[encoded data removed]",
      "text/plain": [
       "<Figure size 462.25x360 with 1 Axes>"
      ]
     },
     "metadata": {
      "needs_background": "light"
     },
     "output_type": "display_data"
    }
   ],
   "source": [
    "#Zoom in Job Level Distribution in hispanics. \n",
    "\n",
    "sns.lmplot (x=\"Job_Code\", y=\"Total\", data = dfAsiansT1, fit_reg = False, hue=\"Job_Desc\",scatter_kws={\"s\": 100} )\n",
    "\n",
    "plt.xticks (rotation = -45)"
   ]
  },
  {
   "cell_type": "code",
   "execution_count": 159,
   "metadata": {},
   "outputs": [
    {
     "name": "stdout",
     "output_type": "stream",
     "text": [
      "Total Asians:  2682903.0\n"
     ]
    }
   ],
   "source": [
    "asiansTotalNum= dfAsiansT1[\"Total\"].sum()\n",
    "print(\"Total Asians: \", asiansTotalNum)"
   ]
  },
  {
   "cell_type": "markdown",
   "metadata": {},
   "source": [
    "# Comment Asians All Genders\n",
    "\n",
    "Job distribution among Asians where Professional and Service have the highest participation. Professional Jobs are way over represented for this group."
   ]
  },
  {
   "cell_type": "code",
   "execution_count": 160,
   "metadata": {},
   "outputs": [],
   "source": [
    "#Creating Dataframes based on specific Race (Minorities, WHite, Black, Asian, Hispanic)\n",
    "#cust_sell = mainDf[mainDf.Type == 'S']\n",
    "#cust_buy = mainDf[mainDf.Type == 'P']\n",
    "\n",
    "dfMinorities= dfNumbers[dfNumbers.Race == \"Minorities\"]\n"
   ]
  },
  {
   "cell_type": "code",
   "execution_count": 161,
   "metadata": {},
   "outputs": [],
   "source": [
    "dfMinorities1 = dfMinorities[dfMinorities.Sex != \"Both_Sex\" ]\n",
    "dfMinorities2 = dfMinorities1[dfMinorities1.Job_Desc != \"TOTAL\" ]"
   ]
  },
  {
   "cell_type": "code",
   "execution_count": 162,
   "metadata": {},
   "outputs": [
    {
     "name": "stdout",
     "output_type": "stream",
     "text": [
      "       Label                                       Description      Total  \\\n",
      "276    MinF1  1-Senior OFF AND MGRS/MINORITY/FEMALE (MINORITY)    38444.0   \n",
      "277    MinF2                  2-PROF/MINORITY/FEMALE(MINORITY)  1262855.0   \n",
      "278    MinF3                  3-TECH/MINORITY/FEMALE(MINORITY)   459667.0   \n",
      "279    MinF4                  4-SALE/MINORITY/FEMALE(MINORITY)  1062991.0   \n",
      "280    MinF5             5-CLERICALS/MINORITY/FEMALE(MINORITY)  1731079.0   \n",
      "281    MinF6                 6-CRAFT/MINORITY/FEMALE(MINORITY)   115371.0   \n",
      "282    MinF7                  7-OPER/MINORITY/FEMALE(MINORITY)   667181.0   \n",
      "283    MinF8                8-LABORS/MINORITY/FEMALE(MINORITY)   770235.0   \n",
      "284    MinF9                9-ServiceMINORITY/FEMALE(MINORITY)  2073538.0   \n",
      "286  MinF1_2    1.2-mid OFF AND MGRS/MINORITY/FEMALE(MINORITY)   371850.0   \n",
      "287    MinM1    1-Senior OFF AND MGRS/MINORITY/MALE (MINORITY)    66207.0   \n",
      "288    MinM2                   2-PROF/MINORITY/MALE (MINORITY)  1017257.0   \n",
      "289    MinM3                    3-TECH/MINORITY/MALE(MINORITY)   425820.0   \n",
      "290    MinM4                    4-SALE/MINORITY/MALE(MINORITY)   723079.0   \n",
      "291    MinM5               5-CLERICALS/MINORITY/MALE(MINORITY)   548371.0   \n",
      "292    MinM6                   6-CRAFT/MINORITY/MALE(MINORITY)   856576.0   \n",
      "293    MinM7                    7-OPER/MINORITY/MALE(MINORITY)  1601350.0   \n",
      "294    MinM8                  8-LABORS/MINORITY/MALE(MINORITY)  1507522.0   \n",
      "295    MinM9                9-Service/TMINORITY/MALE(MINORITY)  1596839.0   \n",
      "297  MinM1_2      1.2-mid OFF AND MGRS/MINORITY/MALE(MINORITY)   530331.0   \n",
      "\n",
      "    Grouping Job_Code     Job_Desc     Sex        Race Measure        Units  \n",
      "276     MinF        1  Senior_MGRS  Female  Minorities  Number  Partial_Sex  \n",
      "277     MinF        2         PROF  Female  Minorities  Number  Partial_Sex  \n",
      "278     MinF        3         TECH  Female  Minorities  Number  Partial_Sex  \n",
      "279     MinF        4         SALE  Female  Minorities  Number  Partial_Sex  \n",
      "280     MinF        5    CLERICALS  Female  Minorities  Number  Partial_Sex  \n",
      "281     MinF        6        CRAFT  Female  Minorities  Number  Partial_Sex  \n",
      "282     MinF        7         OPER  Female  Minorities  Number  Partial_Sex  \n",
      "283     MinF        8       LABORS  Female  Minorities  Number  Partial_Sex  \n",
      "284     MinF        9      Service  Female  Minorities  Number  Partial_Sex  \n",
      "286     MinF      1_2     Mid_MGRS  Female  Minorities  Number  Partial_Sex  \n",
      "287     MinM        1  Senior_MGRS    Male  Minorities  Number  Partial_Sex  \n",
      "288     MinM        2         PROF    Male  Minorities  Number  Partial_Sex  \n",
      "289     MinM        3         TECH    Male  Minorities  Number  Partial_Sex  \n",
      "290     MinM        4         SALE    Male  Minorities  Number  Partial_Sex  \n",
      "291     MinM        5    CLERICALS    Male  Minorities  Number  Partial_Sex  \n",
      "292     MinM        6        CRAFT    Male  Minorities  Number  Partial_Sex  \n",
      "293     MinM        7         OPER    Male  Minorities  Number  Partial_Sex  \n",
      "294     MinM        8       LABORS    Male  Minorities  Number  Partial_Sex  \n",
      "295     MinM        9      Service    Male  Minorities  Number  Partial_Sex  \n",
      "297     MinM      1_2     Mid_MGRS    Male  Minorities  Number  Partial_Sex  \n"
     ]
    }
   ],
   "source": [
    "print(dfMinorities2)"
   ]
  },
  {
   "cell_type": "code",
   "execution_count": 163,
   "metadata": {},
   "outputs": [
    {
     "data": {
      "text/plain": [
       "Text(0.5, 1.0, '  Job Distribution among Minorities by Gender')"
      ]
     },
     "execution_count": 163,
     "metadata": {},
     "output_type": "execute_result"
    },
    {
     "data": {
      "image/png": "[encoded data removed]",
      "text/plain": [
       "<Figure size 432.625x360 with 1 Axes>"
      ]
     },
     "metadata": {
      "needs_background": "light"
     },
     "output_type": "display_data"
    }
   ],
   "source": [
    "#Zoom in Job Level Distribution in minorities by gender. \n",
    "\n",
    "sns.lmplot (x=\"Job_Desc\", y=\"Total\", data = dfMinorities2, fit_reg = False, hue=\"Sex\",scatter_kws={\"s\": 100} )\n",
    "\n",
    "plt.xticks (rotation = -45)\n",
    "plt.title('  Job Distribution among Minorities by Gender')"
   ]
  },
  {
   "cell_type": "markdown",
   "metadata": {},
   "source": [
    "# Comment Minority by Gender\n",
    "\n",
    "Job distribution among Minorities (Blacks, Hispanics, Asian, Indians, Hawaiians, and Two Race group) where: \n",
    "Minority Females have a higher participation on Professional, Sale, Clarical,and Service jobs\n",
    "\n",
    "Minority Males have a higher participation on Senior Manager, Craft, Operational,and Mid-Manager jobs\n"
   ]
  },
  {
   "cell_type": "code",
   "execution_count": 164,
   "metadata": {},
   "outputs": [],
   "source": [
    "#Creating Dataframes based on specific Race (Minorities, WHite, Black, Asian, Hispanic)\n",
    "dfWhitesRace= dfNumbers[dfNumbers.Race == \"White\"]"
   ]
  },
  {
   "cell_type": "code",
   "execution_count": 165,
   "metadata": {},
   "outputs": [],
   "source": [
    "#Cleaning\n",
    "dfWhitesRace1 = dfWhitesRace[dfWhitesRace.Sex != \"Both_Sex\" ]\n",
    "dfWhitesRace2 = dfWhitesRace1[dfWhitesRace1.Job_Desc != \"TOTAL\" ]"
   ]
  },
  {
   "cell_type": "code",
   "execution_count": 166,
   "metadata": {},
   "outputs": [
    {
     "data": {
      "text/plain": [
       "Text(0.5, 1.0, '  Job Distribution among Whites by Gender')"
      ]
     },
     "execution_count": 166,
     "metadata": {},
     "output_type": "execute_result"
    },
    {
     "data": {
      "image/png": "[encoded data removed]",
      "text/plain": [
       "<Figure size 432.625x360 with 1 Axes>"
      ]
     },
     "metadata": {
      "needs_background": "light"
     },
     "output_type": "display_data"
    }
   ],
   "source": [
    "#Zoom in Job Level Distribution in Blacks by gender. \n",
    "\n",
    "sns.lmplot (x=\"Job_Desc\", y=\"Total\", data = dfWhitesRace2, fit_reg = False, hue=\"Sex\",scatter_kws={\"s\": 100} )\n",
    "\n",
    "plt.xticks (rotation = -45)\n",
    "plt.title('  Job Distribution among Whites by Gender')"
   ]
  },
  {
   "cell_type": "code",
   "execution_count": 167,
   "metadata": {},
   "outputs": [
    {
     "data": {
      "text/plain": [
       "Sex\n",
       "Female    15658352.0\n",
       "Male      17547641.0\n",
       "Name: Total, dtype: float64"
      ]
     },
     "execution_count": 167,
     "metadata": {},
     "output_type": "execute_result"
    }
   ],
   "source": [
    "dfWhitesRace2[\"Total\"].groupby(dfWhitesRace2['Sex']).sum()"
   ]
  },
  {
   "cell_type": "markdown",
   "metadata": {},
   "source": [
    "# Comment White by Gender\n",
    "\n",
    "Job distribution among Whites by gender where Females have a higher participation on Professional, Sales and Clerical jobs.\n",
    "White Males have a higher participation on Sr ans Mid Managers, Technical, and Operational jobs.\n",
    "White Males have a higher participation than White Females"
   ]
  },
  {
   "cell_type": "code",
   "execution_count": 168,
   "metadata": {},
   "outputs": [],
   "source": [
    "#Creating Dataframes based on specific Race (Minorities, WHite, Black, Asian, Hispanic)\n",
    "dfBlacksRace= dfNumbers[dfNumbers.Race == \"Black\"]"
   ]
  },
  {
   "cell_type": "code",
   "execution_count": 169,
   "metadata": {},
   "outputs": [],
   "source": [
    "dfBlacksRace1 = dfBlacksRace[dfBlacksRace.Sex != \"Both_Sex\" ]\n",
    "dfBlacksRace2 = dfBlacksRace1[dfBlacksRace1.Job_Desc != \"TOTAL\" ]"
   ]
  },
  {
   "cell_type": "code",
   "execution_count": 170,
   "metadata": {},
   "outputs": [
    {
     "data": {
      "text/plain": [
       "Text(0.5, 1.0, '  Job Distribution among Blacks by Gender')"
      ]
     },
     "execution_count": 170,
     "metadata": {},
     "output_type": "execute_result"
    },
    {
     "data": {
      "image/png": "[encoded data removed]",
      "text/plain": [
       "<Figure size 432.625x360 with 1 Axes>"
      ]
     },
     "metadata": {
      "needs_background": "light"
     },
     "output_type": "display_data"
    }
   ],
   "source": [
    "#Zoom in Job Level Distribution in Blacks by gender. \n",
    "\n",
    "sns.lmplot (x=\"Job_Desc\", y=\"Total\", data = dfBlacksRace2, fit_reg = False, hue=\"Sex\",scatter_kws={\"s\": 100} )\n",
    "\n",
    "plt.xticks (rotation = -45)\n",
    "plt.title('  Job Distribution among Blacks by Gender')"
   ]
  },
  {
   "cell_type": "code",
   "execution_count": 171,
   "metadata": {},
   "outputs": [
    {
     "data": {
      "text/plain": [
       "Sex\n",
       "Female    3894463.0\n",
       "Male      3183555.0\n",
       "Name: Total, dtype: float64"
      ]
     },
     "execution_count": 171,
     "metadata": {},
     "output_type": "execute_result"
    }
   ],
   "source": [
    "dfBlacksRace2[\"Total\"].groupby(dfBlacksRace2['Sex']).sum()"
   ]
  },
  {
   "cell_type": "markdown",
   "metadata": {},
   "source": [
    "# Comment Blacks by Gender\n",
    "\n",
    "Job distribution among Blacks by Gender where Black Females have a higer participation on Senior Manager, Professional, Technical, Sales, Clerical, and Service jobs. Mid-Manager jobs have almost a 50-50 participation.\n",
    "Black Females have a higher participation than Black Males"
   ]
  },
  {
   "cell_type": "code",
   "execution_count": 172,
   "metadata": {},
   "outputs": [],
   "source": [
    "#Creating Dataframes based on specific Race (Minorities, WHite, Black, Asian, Hispanic)\n",
    "dfAsiansRace= dfNumbers[dfNumbers.Race == \"Asian\"]"
   ]
  },
  {
   "cell_type": "code",
   "execution_count": 173,
   "metadata": {},
   "outputs": [],
   "source": [
    "dfAsiansRace1 = dfAsiansRace[dfAsiansRace.Sex != \"Both_Sex\" ]\n",
    "dfAsiansRace2 = dfAsiansRace1[dfAsiansRace1.Job_Desc != \"TOTAL\" ]"
   ]
  },
  {
   "cell_type": "code",
   "execution_count": 174,
   "metadata": {},
   "outputs": [
    {
     "data": {
      "text/plain": [
       "Text(0.5, 1.0, '  Job Distribution among Asians by Gender')"
      ]
     },
     "execution_count": 174,
     "metadata": {},
     "output_type": "execute_result"
    },
    {
     "data": {
      "image/png": "[encoded data removed]",
      "text/plain": [
       "<Figure size 432.625x360 with 1 Axes>"
      ]
     },
     "metadata": {
      "needs_background": "light"
     },
     "output_type": "display_data"
    }
   ],
   "source": [
    "#Zoom in Job Level Distribution in Blacks by gender. \n",
    "\n",
    "sns.lmplot (x=\"Job_Desc\", y=\"Total\", data = dfAsiansRace2, fit_reg = False, hue=\"Sex\",scatter_kws={\"s\": 100} )\n",
    "\n",
    "plt.xticks (rotation = -45)\n",
    "plt.title('  Job Distribution among Asians by Gender')"
   ]
  },
  {
   "cell_type": "code",
   "execution_count": 175,
   "metadata": {},
   "outputs": [
    {
     "data": {
      "text/plain": [
       "Sex\n",
       "Female    1290092.0\n",
       "Male      1392811.0\n",
       "Name: Total, dtype: float64"
      ]
     },
     "execution_count": 175,
     "metadata": {},
     "output_type": "execute_result"
    }
   ],
   "source": [
    "dfAsiansRace2[\"Total\"].groupby(dfAsiansRace2['Sex']).sum()"
   ]
  },
  {
   "cell_type": "markdown",
   "metadata": {},
   "source": [
    "# Comment Asians by Gender\n",
    "\n",
    "Job distribution among Asians by Gender where Asian Females have a higer participation on Clerical, and Service jobs.\n",
    "Asian Males have a higher participation on Profesional, Clerical, and Service.\n",
    "No material gender gap"
   ]
  },
  {
   "cell_type": "code",
   "execution_count": 176,
   "metadata": {},
   "outputs": [],
   "source": [
    "#Creating Dataframes based on specific Race (Minorities, WHite, Black, Asian, Hispanic)\n",
    "dfHispanicRace= dfNumbers[dfNumbers.Race == \"Hispanic\"]"
   ]
  },
  {
   "cell_type": "code",
   "execution_count": 177,
   "metadata": {},
   "outputs": [],
   "source": [
    "dfHispanicRace1 = dfHispanicRace[dfHispanicRace.Sex != \"Both_Sex\" ]\n",
    "dfHispanicRace2 = dfHispanicRace1[dfHispanicRace1.Job_Desc != \"TOTAL\" ]"
   ]
  },
  {
   "cell_type": "code",
   "execution_count": 178,
   "metadata": {},
   "outputs": [
    {
     "data": {
      "text/plain": [
       "Text(0.5, 1.0, '  Job Distribution among Hispanics by Gender')"
      ]
     },
     "execution_count": 178,
     "metadata": {},
     "output_type": "execute_result"
    },
    {
     "data": {
      "image/png": "[encoded data removed]",
      "text/plain": [
       "<Figure size 432.625x360 with 1 Axes>"
      ]
     },
     "metadata": {
      "needs_background": "light"
     },
     "output_type": "display_data"
    }
   ],
   "source": [
    "#Zoom in Job Level Distribution in Blacks by gender. \n",
    "\n",
    "sns.lmplot (x=\"Job_Desc\", y=\"Total\", data = dfHispanicRace2, fit_reg = False, hue=\"Sex\",scatter_kws={\"s\": 100} )\n",
    "\n",
    "plt.xticks (rotation = -45)\n",
    "plt.title('  Job Distribution among Hispanics by Gender')"
   ]
  },
  {
   "cell_type": "code",
   "execution_count": 179,
   "metadata": {},
   "outputs": [
    {
     "data": {
      "text/plain": [
       "Sex\n",
       "Female    2934725.0\n",
       "Male      3888642.0\n",
       "Name: Total, dtype: float64"
      ]
     },
     "execution_count": 179,
     "metadata": {},
     "output_type": "execute_result"
    }
   ],
   "source": [
    "dfHispanicRace2[\"Total\"].groupby(dfHispanicRace2['Sex']).sum()"
   ]
  },
  {
   "cell_type": "markdown",
   "metadata": {},
   "source": [
    "# Comment Hispanics by Gender\n",
    "\n",
    "Job distribution among Hispanics by Gender where Hispanics Females have a higer participation on Clerical,Service, Sales, and Professional jobs.\n",
    "Hispanic Males have a higher participation on Labor,Operational, and Crafts"
   ]
  },
  {
   "cell_type": "code",
   "execution_count": 180,
   "metadata": {},
   "outputs": [
    {
     "data": {
      "text/plain": [
       "Text(0.5, 1.0, '  Job Distribution among Hispanics by Gender')"
      ]
     },
     "execution_count": 180,
     "metadata": {},
     "output_type": "execute_result"
    },
    {
     "data": {
      "image/png": "[encoded data removed]",
      "text/plain": [
       "<Figure size 445x360 with 1 Axes>"
      ]
     },
     "metadata": {
      "needs_background": "light"
     },
     "output_type": "display_data"
    }
   ],
   "source": [
    "sns.lmplot (x=\"Sex\", y=\"Total\", data = dfHispanicRace2, fit_reg = False, hue=\"Label\",scatter_kws={\"s\": 100})\n",
    "\n",
    "plt.xticks (rotation = -45)\n",
    "plt.title('  Job Distribution among Hispanics by Gender')\n"
   ]
  }
 ],
 "metadata": {
  "kernelspec": {
   "display_name": "Python 3",
   "language": "python",
   "name": "python3"
  },
  "language_info": {
   "codemirror_mode": {
    "name": "ipython",
    "version": 3
   },
   "file_extension": ".py",
   "mimetype": "text/x-python",
   "name": "python",
   "nbconvert_exporter": "python",
   "pygments_lexer": "ipython3",
   "version": "3.7.1"
  }
 },
 "nbformat": 4,
 "nbformat_minor": 2
}
